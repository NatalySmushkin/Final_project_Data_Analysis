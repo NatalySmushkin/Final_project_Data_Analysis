{
 "cells": [
  {
   "cell_type": "markdown",
   "metadata": {},
   "source": [
    "### Telecom: Identifying Ineffective Operators"
   ]
  },
  {
   "cell_type": "markdown",
   "metadata": {},
   "source": [
    "A virtual telephony service is developing a new function that will give supervisors information on the least effective operators. An operator is considered ineffective if they have a large number of missed incoming calls (internal and external) and a long waiting time for incoming calls. Moreover, if an operator is supposed to make outgoing calls, a small number of them is also a sign of ineffectiveness.\n",
    "\n",
    "#### Goal\n",
    "\n",
    "Identify ineffective operators based on:\n",
    "\n",
    "* A large number of missed incoming calls (internal and external).\n",
    "* A long waiting time for incoming calls.\n",
    "* A small number of outgoing calls.\n",
    "\n",
    "#### Table of contents:\n",
    "\n",
    "* [Open the data files and read the general information](#chapter1)\n",
    "   \n",
    "* [Prepare the data for analysis](#chapter2)\n",
    "\n",
    "    * Check for missing values\n",
    "    * Replace\\delete missing values\n",
    "    * Check for duplicate values\n",
    "    * Remove duplicates\n",
    "    * Check type correspondence\n",
    "    * Convert types if needed\n",
    "\n",
    "* [EDA](#chapter3)\n",
    "\n",
    "    * Study distribution of data\n",
    "    * Find outliers \n",
    "\n",
    "* [Identifying ineffective operators](#chapter4)\n",
    "\n",
    "    * Determine the threshold after which the number of missed calls will be considered too high\n",
    "    * Determine the threshold after which the waiting time will be considered too long\n",
    "    * Determine the threshold after which the number of outgoing calls will be considered too small\n",
    "\n",
    "* [Test hypothesis](#chapter5)\n",
    "    \n",
    "    * If there is statistically significant difference in average waiting time between effective and ineffective operators\n",
    "\n",
    "* [Conclusions](#chapter6)\n"
   ]
  },
  {
   "cell_type": "markdown",
   "metadata": {},
   "source": [
    "Link to presentation: https://docs.google.com/presentation/d/1NYwhVUyjQnjgwyRLGPr3tmdhDxrAaYl5qbqKdSwlGQM/edit?usp=sharing"
   ]
  },
  {
   "cell_type": "markdown",
   "metadata": {},
   "source": [
    "Link to Tableau dashbord: https://public.tableau.com/profile/nataliy.smushkin#!/vizhome/CallMeMaybe_16178217776690/Dashboard1"
   ]
  },
  {
   "cell_type": "code",
   "execution_count": 1,
   "metadata": {},
   "outputs": [],
   "source": [
    "import pandas as pd\n",
    "import numpy as np\n",
    "import matplotlib\n",
    "import matplotlib.pyplot as plt\n",
    "import seaborn as sns\n",
    "import matplotlib.dates as mdates\n",
    "import datetime \n",
    "import matplotlib.dates\n",
    "from scipy import stats as st\n",
    "import warnings\n",
    "warnings.filterwarnings('ignore')"
   ]
  },
  {
   "cell_type": "code",
   "execution_count": 2,
   "metadata": {},
   "outputs": [
    {
     "name": "stdout",
     "output_type": "stream",
     "text": [
      "<class 'pandas.core.frame.DataFrame'>\n",
      "RangeIndex: 53902 entries, 0 to 53901\n",
      "Data columns (total 9 columns):\n",
      "user_id                53902 non-null int64\n",
      "date                   53902 non-null object\n",
      "direction              53902 non-null object\n",
      "internal               53785 non-null object\n",
      "operator_id            45730 non-null float64\n",
      "is_missed_call         53902 non-null bool\n",
      "calls_count            53902 non-null int64\n",
      "call_duration          53902 non-null int64\n",
      "total_call_duration    53902 non-null int64\n",
      "dtypes: bool(1), float64(1), int64(4), object(3)\n",
      "memory usage: 3.3+ MB\n"
     ]
    },
    {
     "data": {
      "text/html": [
       "<div>\n",
       "<style scoped>\n",
       "    .dataframe tbody tr th:only-of-type {\n",
       "        vertical-align: middle;\n",
       "    }\n",
       "\n",
       "    .dataframe tbody tr th {\n",
       "        vertical-align: top;\n",
       "    }\n",
       "\n",
       "    .dataframe thead th {\n",
       "        text-align: right;\n",
       "    }\n",
       "</style>\n",
       "<table border=\"1\" class=\"dataframe\">\n",
       "  <thead>\n",
       "    <tr style=\"text-align: right;\">\n",
       "      <th></th>\n",
       "      <th>user_id</th>\n",
       "      <th>date</th>\n",
       "      <th>direction</th>\n",
       "      <th>internal</th>\n",
       "      <th>operator_id</th>\n",
       "      <th>is_missed_call</th>\n",
       "      <th>calls_count</th>\n",
       "      <th>call_duration</th>\n",
       "      <th>total_call_duration</th>\n",
       "    </tr>\n",
       "  </thead>\n",
       "  <tbody>\n",
       "    <tr>\n",
       "      <td>0</td>\n",
       "      <td>166377</td>\n",
       "      <td>2019-08-04 00:00:00+03:00</td>\n",
       "      <td>in</td>\n",
       "      <td>False</td>\n",
       "      <td>NaN</td>\n",
       "      <td>True</td>\n",
       "      <td>2</td>\n",
       "      <td>0</td>\n",
       "      <td>4</td>\n",
       "    </tr>\n",
       "    <tr>\n",
       "      <td>1</td>\n",
       "      <td>166377</td>\n",
       "      <td>2019-08-05 00:00:00+03:00</td>\n",
       "      <td>out</td>\n",
       "      <td>True</td>\n",
       "      <td>880022.0</td>\n",
       "      <td>True</td>\n",
       "      <td>3</td>\n",
       "      <td>0</td>\n",
       "      <td>5</td>\n",
       "    </tr>\n",
       "    <tr>\n",
       "      <td>2</td>\n",
       "      <td>166377</td>\n",
       "      <td>2019-08-05 00:00:00+03:00</td>\n",
       "      <td>out</td>\n",
       "      <td>True</td>\n",
       "      <td>880020.0</td>\n",
       "      <td>True</td>\n",
       "      <td>1</td>\n",
       "      <td>0</td>\n",
       "      <td>1</td>\n",
       "    </tr>\n",
       "    <tr>\n",
       "      <td>3</td>\n",
       "      <td>166377</td>\n",
       "      <td>2019-08-05 00:00:00+03:00</td>\n",
       "      <td>out</td>\n",
       "      <td>True</td>\n",
       "      <td>880020.0</td>\n",
       "      <td>False</td>\n",
       "      <td>1</td>\n",
       "      <td>10</td>\n",
       "      <td>18</td>\n",
       "    </tr>\n",
       "    <tr>\n",
       "      <td>4</td>\n",
       "      <td>166377</td>\n",
       "      <td>2019-08-05 00:00:00+03:00</td>\n",
       "      <td>out</td>\n",
       "      <td>False</td>\n",
       "      <td>880022.0</td>\n",
       "      <td>True</td>\n",
       "      <td>3</td>\n",
       "      <td>0</td>\n",
       "      <td>25</td>\n",
       "    </tr>\n",
       "  </tbody>\n",
       "</table>\n",
       "</div>"
      ],
      "text/plain": [
       "   user_id                       date direction internal  operator_id  \\\n",
       "0   166377  2019-08-04 00:00:00+03:00        in    False          NaN   \n",
       "1   166377  2019-08-05 00:00:00+03:00       out     True     880022.0   \n",
       "2   166377  2019-08-05 00:00:00+03:00       out     True     880020.0   \n",
       "3   166377  2019-08-05 00:00:00+03:00       out     True     880020.0   \n",
       "4   166377  2019-08-05 00:00:00+03:00       out    False     880022.0   \n",
       "\n",
       "   is_missed_call  calls_count  call_duration  total_call_duration  \n",
       "0            True            2              0                    4  \n",
       "1            True            3              0                    5  \n",
       "2            True            1              0                    1  \n",
       "3           False            1             10                   18  \n",
       "4            True            3              0                   25  "
      ]
     },
     "execution_count": 2,
     "metadata": {},
     "output_type": "execute_result"
    }
   ],
   "source": [
    "df = pd.read_csv('/datasets/telecom_dataset_us.csv')\n",
    "df.info()\n",
    "df.head()"
   ]
  },
  {
   "cell_type": "code",
   "execution_count": 3,
   "metadata": {},
   "outputs": [
    {
     "data": {
      "text/plain": [
       "user_id                   0\n",
       "date                      0\n",
       "direction                 0\n",
       "internal                117\n",
       "operator_id            8172\n",
       "is_missed_call            0\n",
       "calls_count               0\n",
       "call_duration             0\n",
       "total_call_duration       0\n",
       "dtype: int64"
      ]
     },
     "execution_count": 3,
     "metadata": {},
     "output_type": "execute_result"
    }
   ],
   "source": [
    "df.isnull().sum()"
   ]
  },
  {
   "cell_type": "code",
   "execution_count": 4,
   "metadata": {},
   "outputs": [
    {
     "data": {
      "text/plain": [
       "4900"
      ]
     },
     "execution_count": 4,
     "metadata": {},
     "output_type": "execute_result"
    }
   ],
   "source": [
    "df.duplicated().sum()"
   ]
  },
  {
   "cell_type": "markdown",
   "metadata": {},
   "source": [
    "Our dataset has 53902 entries, 9 columns.\n",
    "\n",
    "* user_id — client account ID\n",
    "* date — date the statistics were retrieved\n",
    "* direction — call direction (out for outgoing, in for incoming)\n",
    "* internal — whether the call was internal (between a client's operators)\n",
    "* operator_id — operator identifier\n",
    "* is_missed_call — whether the call was missed\n",
    "* calls_count — number of calls\n",
    "* call_duration — call duration (excluding waiting time)\n",
    "* total_call_duration — call duration (including waiting time)\n",
    "\n",
    "There are 117 missing values in \"internal\" column and 8172 missing values in \"operator_id\" column. Also, there are 4900 duplicated rows in our dataset."
   ]
  },
  {
   "cell_type": "code",
   "execution_count": 5,
   "metadata": {},
   "outputs": [
    {
     "name": "stdout",
     "output_type": "stream",
     "text": [
      "<class 'pandas.core.frame.DataFrame'>\n",
      "RangeIndex: 732 entries, 0 to 731\n",
      "Data columns (total 3 columns):\n",
      "user_id        732 non-null int64\n",
      "tariff_plan    732 non-null object\n",
      "date_start     732 non-null object\n",
      "dtypes: int64(1), object(2)\n",
      "memory usage: 17.3+ KB\n"
     ]
    },
    {
     "data": {
      "text/html": [
       "<div>\n",
       "<style scoped>\n",
       "    .dataframe tbody tr th:only-of-type {\n",
       "        vertical-align: middle;\n",
       "    }\n",
       "\n",
       "    .dataframe tbody tr th {\n",
       "        vertical-align: top;\n",
       "    }\n",
       "\n",
       "    .dataframe thead th {\n",
       "        text-align: right;\n",
       "    }\n",
       "</style>\n",
       "<table border=\"1\" class=\"dataframe\">\n",
       "  <thead>\n",
       "    <tr style=\"text-align: right;\">\n",
       "      <th></th>\n",
       "      <th>user_id</th>\n",
       "      <th>tariff_plan</th>\n",
       "      <th>date_start</th>\n",
       "    </tr>\n",
       "  </thead>\n",
       "  <tbody>\n",
       "    <tr>\n",
       "      <td>0</td>\n",
       "      <td>166713</td>\n",
       "      <td>A</td>\n",
       "      <td>2019-08-15</td>\n",
       "    </tr>\n",
       "    <tr>\n",
       "      <td>1</td>\n",
       "      <td>166901</td>\n",
       "      <td>A</td>\n",
       "      <td>2019-08-23</td>\n",
       "    </tr>\n",
       "    <tr>\n",
       "      <td>2</td>\n",
       "      <td>168527</td>\n",
       "      <td>A</td>\n",
       "      <td>2019-10-29</td>\n",
       "    </tr>\n",
       "    <tr>\n",
       "      <td>3</td>\n",
       "      <td>167097</td>\n",
       "      <td>A</td>\n",
       "      <td>2019-09-01</td>\n",
       "    </tr>\n",
       "    <tr>\n",
       "      <td>4</td>\n",
       "      <td>168193</td>\n",
       "      <td>A</td>\n",
       "      <td>2019-10-16</td>\n",
       "    </tr>\n",
       "  </tbody>\n",
       "</table>\n",
       "</div>"
      ],
      "text/plain": [
       "   user_id tariff_plan  date_start\n",
       "0   166713           A  2019-08-15\n",
       "1   166901           A  2019-08-23\n",
       "2   168527           A  2019-10-29\n",
       "3   167097           A  2019-09-01\n",
       "4   168193           A  2019-10-16"
      ]
     },
     "execution_count": 5,
     "metadata": {},
     "output_type": "execute_result"
    }
   ],
   "source": [
    "clients = pd.read_csv('/datasets/telecom_clients_us.csv')\n",
    "clients.info() \n",
    "clients.head()"
   ]
  },
  {
   "cell_type": "code",
   "execution_count": 6,
   "metadata": {},
   "outputs": [
    {
     "data": {
      "text/plain": [
       "user_id        0\n",
       "tariff_plan    0\n",
       "date_start     0\n",
       "dtype: int64"
      ]
     },
     "execution_count": 6,
     "metadata": {},
     "output_type": "execute_result"
    }
   ],
   "source": [
    "clients.isnull().sum()"
   ]
  },
  {
   "cell_type": "code",
   "execution_count": 7,
   "metadata": {},
   "outputs": [
    {
     "data": {
      "text/plain": [
       "0"
      ]
     },
     "execution_count": 7,
     "metadata": {},
     "output_type": "execute_result"
    }
   ],
   "source": [
    "clients.duplicated().sum()"
   ]
  },
  {
   "cell_type": "markdown",
   "metadata": {},
   "source": [
    "Clients dataset has 732 entries, 3 columns.\n",
    "\n",
    "* user_id\n",
    "* tariff_plan — client's current plan\n",
    "* date_start — client's registration date\n",
    "\n",
    "No missing values, no duplicates."
   ]
  },
  {
   "cell_type": "markdown",
   "metadata": {},
   "source": [
    "### Data preprossesing<a class=\"anchor\" id=\"chapter2\"></a>"
   ]
  },
  {
   "cell_type": "markdown",
   "metadata": {},
   "source": [
    "Let's begin with smaller dataset \"clients\". We'll convert registration date \"date_start\" into date type."
   ]
  },
  {
   "cell_type": "code",
   "execution_count": 8,
   "metadata": {},
   "outputs": [],
   "source": [
    "clients['date_start'] = pd.to_datetime(clients['date_start'], format=\"%Y-%m-%d\")"
   ]
  },
  {
   "cell_type": "markdown",
   "metadata": {},
   "source": [
    "For the second dataset, we'll also convert \"date\" column into date type."
   ]
  },
  {
   "cell_type": "code",
   "execution_count": 9,
   "metadata": {},
   "outputs": [],
   "source": [
    "df['date'] = pd.to_datetime(df['date'], format=\"%Y-%m-%d\")"
   ]
  },
  {
   "cell_type": "markdown",
   "metadata": {},
   "source": [
    "Regarding missing values in \"operator_id\" and \"internal\" columns, there is no way to determine operator_id (since we don't know the algorithm that assigns users to operators) and couldn't know wether the call was internal (between the client's operators) or not. Hence, we must delete all these rows."
   ]
  },
  {
   "cell_type": "code",
   "execution_count": 10,
   "metadata": {},
   "outputs": [],
   "source": [
    "df.dropna(subset=['internal', 'operator_id'], inplace=True)"
   ]
  },
  {
   "cell_type": "markdown",
   "metadata": {},
   "source": [
    "Now we'll drop duplicates"
   ]
  },
  {
   "cell_type": "code",
   "execution_count": 11,
   "metadata": {},
   "outputs": [],
   "source": [
    "df.drop_duplicates(inplace=True)"
   ]
  },
  {
   "cell_type": "markdown",
   "metadata": {},
   "source": [
    "Convert \"operator_id\" column into integer type."
   ]
  },
  {
   "cell_type": "code",
   "execution_count": 12,
   "metadata": {},
   "outputs": [],
   "source": [
    "df['operator_id'] = df['operator_id'].astype(int)"
   ]
  },
  {
   "cell_type": "markdown",
   "metadata": {},
   "source": [
    "Let's add two columns: \"waiting_time\" column that will show how long the customer has had to wait until the operator answers his call and \"avg_waiting_time_per_call\""
   ]
  },
  {
   "cell_type": "code",
   "execution_count": 13,
   "metadata": {},
   "outputs": [],
   "source": [
    "df['waiting_time'] = df['total_call_duration'] - df['call_duration']\n",
    "df['avg_waiting_time_per_call'] = df['waiting_time'] / df['calls_count']"
   ]
  },
  {
   "cell_type": "markdown",
   "metadata": {},
   "source": [
    "So, we have two datasets:\n",
    "\n",
    "* clients - 732 entries, 3 columns. No missing values, no duplicates. \"date_start\" column type was converted to date type\n",
    "\n",
    "* df - 53902 entries, 9 columns. \"date\" column type was converted into date type, \"operator_id\" - into integer type. There were 117 missing values in \"internal\" column and 8172 missing values in \"operator_id\" column. Also, there were 4900 duplicated rows in our dataset. We had to delete all missing and duplicated rows. As a result we lost 23% of the data.\n",
    "\n",
    "We have added to df dataset \"waiting_time\" column showing how long the customer had to wait until the operator answers his call. "
   ]
  },
  {
   "cell_type": "markdown",
   "metadata": {},
   "source": [
    "### Exploratory Data Analysis<a class=\"anchor\" id=\"chapter3\"></a>"
   ]
  },
  {
   "cell_type": "markdown",
   "metadata": {},
   "source": [
    "Let's begin with the smaller dataset - clients"
   ]
  },
  {
   "cell_type": "code",
   "execution_count": 14,
   "metadata": {},
   "outputs": [
    {
     "data": {
      "text/plain": [
       "array(['A', 'C', 'B'], dtype=object)"
      ]
     },
     "execution_count": 14,
     "metadata": {},
     "output_type": "execute_result"
    }
   ],
   "source": [
    "clients['tariff_plan'].unique()"
   ]
  },
  {
   "cell_type": "markdown",
   "metadata": {},
   "source": [
    "There are three unique tariffs: A, B, C."
   ]
  },
  {
   "cell_type": "code",
   "execution_count": 15,
   "metadata": {},
   "outputs": [
    {
     "data": {
      "text/plain": [
       "732"
      ]
     },
     "execution_count": 15,
     "metadata": {},
     "output_type": "execute_result"
    }
   ],
   "source": [
    "clients['user_id'].nunique()"
   ]
  },
  {
   "cell_type": "markdown",
   "metadata": {},
   "source": [
    "We have 732 users in clients dataset."
   ]
  },
  {
   "cell_type": "code",
   "execution_count": 16,
   "metadata": {},
   "outputs": [],
   "source": [
    "tariff = clients.groupby('tariff_plan')['user_id'].count().reset_index()\n",
    "tariff = tariff.sort_values(by ='user_id', ascending = False)"
   ]
  },
  {
   "cell_type": "code",
   "execution_count": 17,
   "metadata": {},
   "outputs": [
    {
     "data": {
      "image/png": "[encoded data removed]",
      "text/plain": [
       "<Figure size 432x360 with 1 Axes>"
      ]
     },
     "metadata": {
      "needs_background": "light"
     },
     "output_type": "display_data"
    }
   ],
   "source": [
    "plt.figure(figsize=(6, 5))\n",
    "ax = sns.barplot(data = tariff, x='tariff_plan', y='user_id')\n",
    "\n",
    "plt.title('Number of users in each tariff plan')\n",
    "plt.xlabel('Tariff plan')\n",
    "plt.ylabel('Number of users')\n",
    "\n",
    "for p in ax.patches:\n",
    "    ax.annotate(format(p.get_height(), '.2f'), \n",
    "                xy=(p.get_x() + p.get_width() / 2., p.get_height()), \n",
    "                ha = 'center', \n",
    "                va = 'center', \n",
    "                xytext = (0, 10), \n",
    "                textcoords = 'offset points')\n",
    "\n",
    "plt.show()"
   ]
  },
  {
   "cell_type": "markdown",
   "metadata": {},
   "source": [
    "We can see that the tariff plan C is the most popular, A - is the least popular."
   ]
  },
  {
   "cell_type": "code",
   "execution_count": 18,
   "metadata": {},
   "outputs": [
    {
     "data": {
      "text/plain": [
       "(Timestamp('2019-08-01 00:00:00'), Timestamp('2019-10-31 00:00:00'))"
      ]
     },
     "execution_count": 18,
     "metadata": {},
     "output_type": "execute_result"
    }
   ],
   "source": [
    "clients['date_start'].min(), clients['date_start'].max()"
   ]
  },
  {
   "cell_type": "markdown",
   "metadata": {},
   "source": [
    "We have data on registrations from 01-08-2019 till 31-10-2019."
   ]
  },
  {
   "cell_type": "markdown",
   "metadata": {},
   "source": [
    "Let's look at distribution of registrations per day. "
   ]
  },
  {
   "cell_type": "code",
   "execution_count": 19,
   "metadata": {},
   "outputs": [
    {
     "data": {
      "image/png": "[encoded data removed]",
      "text/plain": [
       "<Figure size 720x360 with 1 Axes>"
      ]
     },
     "metadata": {
      "needs_background": "light"
     },
     "output_type": "display_data"
    }
   ],
   "source": [
    "fig = plt.figure(figsize=(10,5))\n",
    "\n",
    "plt.hist(clients['date_start'], bins=100)\n",
    "\n",
    "plt.title('Distribution of registrations per day')\n",
    "plt.xlabel('Date')\n",
    "plt.ylabel('Number of registrations')\n",
    "plt.show()"
   ]
  },
  {
   "cell_type": "markdown",
   "metadata": {},
   "source": [
    "We can not see any pattern in the distribution of number of registrations over 3 months."
   ]
  },
  {
   "cell_type": "markdown",
   "metadata": {},
   "source": [
    "Now let's analyze df dataset."
   ]
  },
  {
   "cell_type": "code",
   "execution_count": 20,
   "metadata": {},
   "outputs": [
    {
     "data": {
      "text/plain": [
       "290"
      ]
     },
     "execution_count": 20,
     "metadata": {},
     "output_type": "execute_result"
    }
   ],
   "source": [
    "df['user_id'].nunique()"
   ]
  },
  {
   "cell_type": "code",
   "execution_count": 21,
   "metadata": {},
   "outputs": [
    {
     "data": {
      "text/plain": [
       "1092"
      ]
     },
     "execution_count": 21,
     "metadata": {},
     "output_type": "execute_result"
    }
   ],
   "source": [
    "df['operator_id'].nunique()"
   ]
  },
  {
   "cell_type": "markdown",
   "metadata": {},
   "source": [
    "We can see that only 290 of all registered users (732 users) started using their tariff plan.\n",
    "\n",
    "We have 1092 operators. "
   ]
  },
  {
   "cell_type": "code",
   "execution_count": 22,
   "metadata": {},
   "outputs": [
    {
     "data": {
      "text/plain": [
       "count    290.000000\n",
       "mean       3.765517\n",
       "std        5.717712\n",
       "min        1.000000\n",
       "25%        1.000000\n",
       "50%        2.000000\n",
       "75%        4.000000\n",
       "max       50.000000\n",
       "Name: operator_id, dtype: float64"
      ]
     },
     "execution_count": 22,
     "metadata": {},
     "output_type": "execute_result"
    }
   ],
   "source": [
    "df.groupby('user_id')['operator_id'].nunique().describe()"
   ]
  },
  {
   "cell_type": "markdown",
   "metadata": {},
   "source": [
    "We can see that users can have from 1 to 50 operators."
   ]
  },
  {
   "cell_type": "code",
   "execution_count": 23,
   "metadata": {},
   "outputs": [
    {
     "data": {
      "text/plain": [
       "count                         41491\n",
       "unique                          118\n",
       "top       2019-11-25 00:00:00+03:00\n",
       "freq                            987\n",
       "first     2019-08-02 00:00:00+03:00\n",
       "last      2019-11-28 00:00:00+03:00\n",
       "Name: date, dtype: object"
      ]
     },
     "execution_count": 23,
     "metadata": {},
     "output_type": "execute_result"
    }
   ],
   "source": [
    "df['date'].describe()"
   ]
  },
  {
   "cell_type": "code",
   "execution_count": 24,
   "metadata": {},
   "outputs": [
    {
     "data": {
      "image/png": "[encoded data removed]",
      "text/plain": [
       "<Figure size 720x360 with 1 Axes>"
      ]
     },
     "metadata": {
      "needs_background": "light"
     },
     "output_type": "display_data"
    }
   ],
   "source": [
    "fig = plt.figure(figsize=(10,5))\n",
    "\n",
    "plt.hist(df['date'], bins=100)\n",
    "\n",
    "plt.title('Distribution of calls per day')\n",
    "plt.xlabel('Date')\n",
    "plt.ylabel('Number of calls')\n",
    "plt.show()"
   ]
  },
  {
   "cell_type": "markdown",
   "metadata": {},
   "source": [
    "We have distribution of calls from 02-08-2019 till 28-11-2019. We can see that the number of calls increasing during this period. We also can see peaks in some days and than downs. Probably, downs were caused by low activity at weekends."
   ]
  },
  {
   "cell_type": "markdown",
   "metadata": {},
   "source": [
    "Let's look at direction column (out - for outgoing calls, in - incoming calls)"
   ]
  },
  {
   "cell_type": "code",
   "execution_count": 25,
   "metadata": {},
   "outputs": [
    {
     "data": {
      "text/plain": [
       "out    28813\n",
       "in     12678\n",
       "Name: direction, dtype: int64"
      ]
     },
     "execution_count": 25,
     "metadata": {},
     "output_type": "execute_result"
    }
   ],
   "source": [
    "df['direction'].value_counts()"
   ]
  },
  {
   "cell_type": "code",
   "execution_count": 26,
   "metadata": {},
   "outputs": [
    {
     "data": {
      "image/png": "[encoded data removed]",
      "text/plain": [
       "<Figure size 720x360 with 1 Axes>"
      ]
     },
     "metadata": {},
     "output_type": "display_data"
    }
   ],
   "source": [
    "plt.figure(figsize=(10, 5))\n",
    "\n",
    "direction = df.groupby('direction')['operator_id'].count().reset_index()\n",
    "direction.columns = ['direction', 'count']\n",
    "\n",
    "labels = ['In', 'Out']\n",
    "plt.pie(direction['count'], labels=labels, autopct='%0.f%%', shadow=True, startangle=145)\n",
    "plt.title('Direction distribution')\n",
    "plt.show()"
   ]
  },
  {
   "cell_type": "markdown",
   "metadata": {},
   "source": [
    "About 70% of calls are outgoing."
   ]
  },
  {
   "cell_type": "markdown",
   "metadata": {},
   "source": [
    "Let's look at internal column (wether the call was internal - between client's operators)"
   ]
  },
  {
   "cell_type": "code",
   "execution_count": 27,
   "metadata": {},
   "outputs": [
    {
     "data": {
      "text/plain": [
       "False    36161\n",
       "True      5330\n",
       "Name: internal, dtype: int64"
      ]
     },
     "execution_count": 27,
     "metadata": {},
     "output_type": "execute_result"
    }
   ],
   "source": [
    "df['internal'].value_counts()"
   ]
  },
  {
   "cell_type": "code",
   "execution_count": 28,
   "metadata": {},
   "outputs": [
    {
     "data": {
      "image/png": "[encoded data removed]",
      "text/plain": [
       "<Figure size 720x360 with 1 Axes>"
      ]
     },
     "metadata": {},
     "output_type": "display_data"
    }
   ],
   "source": [
    "plt.figure(figsize=(10, 5))\n",
    "\n",
    "internal = df.groupby('internal')['operator_id'].count().reset_index()\n",
    "internal.columns = ['internal', 'count']\n",
    "\n",
    "labels = ['False', 'True']\n",
    "plt.pie(internal['count'], labels=labels, autopct='%0.f%%', shadow=True, startangle=145)\n",
    "plt.title('Internal distribution')\n",
    "plt.show()"
   ]
  },
  {
   "cell_type": "markdown",
   "metadata": {},
   "source": [
    "About 13% of calls made between the operators."
   ]
  },
  {
   "cell_type": "markdown",
   "metadata": {},
   "source": [
    "Let's check if there are some logical mistakes. Such as call duration more than total call duration."
   ]
  },
  {
   "cell_type": "code",
   "execution_count": 29,
   "metadata": {},
   "outputs": [
    {
     "data": {
      "text/html": [
       "<div>\n",
       "<style scoped>\n",
       "    .dataframe tbody tr th:only-of-type {\n",
       "        vertical-align: middle;\n",
       "    }\n",
       "\n",
       "    .dataframe tbody tr th {\n",
       "        vertical-align: top;\n",
       "    }\n",
       "\n",
       "    .dataframe thead th {\n",
       "        text-align: right;\n",
       "    }\n",
       "</style>\n",
       "<table border=\"1\" class=\"dataframe\">\n",
       "  <thead>\n",
       "    <tr style=\"text-align: right;\">\n",
       "      <th></th>\n",
       "      <th>user_id</th>\n",
       "      <th>date</th>\n",
       "      <th>direction</th>\n",
       "      <th>internal</th>\n",
       "      <th>operator_id</th>\n",
       "      <th>is_missed_call</th>\n",
       "      <th>calls_count</th>\n",
       "      <th>call_duration</th>\n",
       "      <th>total_call_duration</th>\n",
       "      <th>waiting_time</th>\n",
       "      <th>avg_waiting_time_per_call</th>\n",
       "    </tr>\n",
       "  </thead>\n",
       "  <tbody>\n",
       "  </tbody>\n",
       "</table>\n",
       "</div>"
      ],
      "text/plain": [
       "Empty DataFrame\n",
       "Columns: [user_id, date, direction, internal, operator_id, is_missed_call, calls_count, call_duration, total_call_duration, waiting_time, avg_waiting_time_per_call]\n",
       "Index: []"
      ]
     },
     "execution_count": 29,
     "metadata": {},
     "output_type": "execute_result"
    }
   ],
   "source": [
    "df.query('(call_duration > total_call_duration)')"
   ]
  },
  {
   "cell_type": "markdown",
   "metadata": {},
   "source": [
    "All is fine here."
   ]
  },
  {
   "cell_type": "markdown",
   "metadata": {},
   "source": [
    "Let's check if the call is missed but call duration is more than 0 seconds."
   ]
  },
  {
   "cell_type": "code",
   "execution_count": 30,
   "metadata": {},
   "outputs": [
    {
     "data": {
      "text/plain": [
       "295"
      ]
     },
     "execution_count": 30,
     "metadata": {},
     "output_type": "execute_result"
    }
   ],
   "source": [
    "df.query('(is_missed_call == True and call_duration >0)').shape[0]"
   ]
  },
  {
   "cell_type": "markdown",
   "metadata": {},
   "source": [
    "Let's look how many of such calls last more than 2 seconds "
   ]
  },
  {
   "cell_type": "code",
   "execution_count": 31,
   "metadata": {},
   "outputs": [
    {
     "data": {
      "text/plain": [
       "184"
      ]
     },
     "execution_count": 31,
     "metadata": {},
     "output_type": "execute_result"
    }
   ],
   "source": [
    "df.query('(is_missed_call == True and call_duration > 2)').shape[0]"
   ]
  },
  {
   "cell_type": "markdown",
   "metadata": {},
   "source": [
    "Those missed calls with duration 1-2 seconds are technical errors, when the connection with other part was not established, but duration lasts for like 1-2 seconds. We will leave them as they are. But we'll drop those that last more than 2 seconds.  "
   ]
  },
  {
   "cell_type": "code",
   "execution_count": 32,
   "metadata": {},
   "outputs": [],
   "source": [
    "df = df.query('~(is_missed_call == True and call_duration > 2)')"
   ]
  },
  {
   "cell_type": "markdown",
   "metadata": {},
   "source": [
    "Also let's check the situation when missed call is False and duration is 0."
   ]
  },
  {
   "cell_type": "code",
   "execution_count": 33,
   "metadata": {},
   "outputs": [
    {
     "data": {
      "text/plain": [
       "17"
      ]
     },
     "execution_count": 33,
     "metadata": {},
     "output_type": "execute_result"
    }
   ],
   "source": [
    "df.query('(is_missed_call == False and call_duration == 0)').shape[0]"
   ]
  },
  {
   "cell_type": "markdown",
   "metadata": {},
   "source": [
    "Drop  them."
   ]
  },
  {
   "cell_type": "code",
   "execution_count": 34,
   "metadata": {},
   "outputs": [],
   "source": [
    "df = df.query('~(is_missed_call == False and call_duration == 0)')"
   ]
  },
  {
   "cell_type": "markdown",
   "metadata": {},
   "source": [
    "Let's check what we have now."
   ]
  },
  {
   "cell_type": "code",
   "execution_count": 35,
   "metadata": {},
   "outputs": [
    {
     "data": {
      "text/plain": [
       "False    27365\n",
       "True     13925\n",
       "Name: is_missed_call, dtype: int64"
      ]
     },
     "execution_count": 35,
     "metadata": {},
     "output_type": "execute_result"
    }
   ],
   "source": [
    "df['is_missed_call'].value_counts()"
   ]
  },
  {
   "cell_type": "code",
   "execution_count": 36,
   "metadata": {},
   "outputs": [
    {
     "data": {
      "image/png": "[encoded data removed]",
      "text/plain": [
       "<Figure size 720x360 with 1 Axes>"
      ]
     },
     "metadata": {},
     "output_type": "display_data"
    }
   ],
   "source": [
    "plt.figure(figsize=(10, 5))\n",
    "\n",
    "is_missed = df.groupby('is_missed_call')['operator_id'].count().reset_index()\n",
    "is_missed.columns = ['is_missed_call', 'count']\n",
    "\n",
    "labels = ['False', 'True']\n",
    "plt.pie(is_missed['count'], labels=labels, autopct='%0.f%%', shadow=True, startangle=145)\n",
    "plt.title('Missed calls distribution')\n",
    "plt.show()"
   ]
  },
  {
   "cell_type": "markdown",
   "metadata": {},
   "source": [
    "About 34% calls were missed."
   ]
  },
  {
   "cell_type": "markdown",
   "metadata": {},
   "source": [
    "Now let's look at \"calls_count\" column."
   ]
  },
  {
   "cell_type": "code",
   "execution_count": 37,
   "metadata": {},
   "outputs": [
    {
     "data": {
      "text/plain": [
       "count    41290.000000\n",
       "mean        16.995350\n",
       "std         59.922036\n",
       "min          1.000000\n",
       "25%          2.000000\n",
       "50%          4.000000\n",
       "75%         14.000000\n",
       "max       4817.000000\n",
       "Name: calls_count, dtype: float64"
      ]
     },
     "execution_count": 37,
     "metadata": {},
     "output_type": "execute_result"
    }
   ],
   "source": [
    " df['calls_count'].describe()"
   ]
  },
  {
   "cell_type": "markdown",
   "metadata": {},
   "source": [
    "Max value is 4817 calls - impossible number of calls per day.  The median is 4 calls, mean is 17 calls. We have a right skewed distribution. Let's look at histogram. "
   ]
  },
  {
   "cell_type": "code",
   "execution_count": 38,
   "metadata": {},
   "outputs": [
    {
     "data": {
      "image/png": "[encoded data removed]",
      "text/plain": [
       "<Figure size 720x432 with 1 Axes>"
      ]
     },
     "metadata": {
      "needs_background": "light"
     },
     "output_type": "display_data"
    }
   ],
   "source": [
    "fig, ax = plt.subplots(figsize=(10, 6))\n",
    "df['calls_count'].hist(log=True, bins=20)\n",
    "plt.title('Distribution of number of calls')\n",
    "plt.xlabel('Number of calls')\n",
    "plt.ylabel('Frequency')\n",
    "plt.show()"
   ]
  },
  {
   "cell_type": "code",
   "execution_count": 39,
   "metadata": {},
   "outputs": [
    {
     "data": {
      "text/plain": [
       "array([ 38.,  65., 166.])"
      ]
     },
     "execution_count": 39,
     "metadata": {},
     "output_type": "execute_result"
    }
   ],
   "source": [
    "np.percentile(df['calls_count'], [90, 95, 99])"
   ]
  },
  {
   "cell_type": "markdown",
   "metadata": {},
   "source": [
    "We have outliers here. 65 calls per day (let's take 9 hour working day) means make a call each 8 minutes (probably it is possible if our client is telemarketing company). More than that sounds too much calls per day. We'll delete data with more than 65 calls."
   ]
  },
  {
   "cell_type": "code",
   "execution_count": 40,
   "metadata": {},
   "outputs": [],
   "source": [
    "df = df.query('calls_count < 65')"
   ]
  },
  {
   "cell_type": "markdown",
   "metadata": {},
   "source": [
    "Let's check outliers for call_duration."
   ]
  },
  {
   "cell_type": "code",
   "execution_count": 41,
   "metadata": {},
   "outputs": [
    {
     "data": {
      "text/plain": [
       "count    39176.000000\n",
       "mean       628.915152\n",
       "std       1213.076599\n",
       "min          0.000000\n",
       "25%          0.000000\n",
       "50%        102.000000\n",
       "75%        684.000000\n",
       "max      20223.000000\n",
       "Name: call_duration, dtype: float64"
      ]
     },
     "execution_count": 41,
     "metadata": {},
     "output_type": "execute_result"
    }
   ],
   "source": [
    "df['call_duration'].describe()"
   ]
  },
  {
   "cell_type": "markdown",
   "metadata": {},
   "source": [
    "Maximum value of call duration is 20223 seconds (about five hours) - impossible. Mean value 628 more than median 102 sec. We have a right skewed distribution."
   ]
  },
  {
   "cell_type": "code",
   "execution_count": 42,
   "metadata": {},
   "outputs": [
    {
     "data": {
      "image/png": "[encoded data removed]",
      "text/plain": [
       "<Figure size 720x432 with 1 Axes>"
      ]
     },
     "metadata": {
      "needs_background": "light"
     },
     "output_type": "display_data"
    }
   ],
   "source": [
    "fig, ax = plt.subplots(figsize=(10, 6))\n",
    "df['call_duration'].hist(log=True, bins=20)\n",
    "plt.title('Distribution of call duration')\n",
    "plt.xlabel('Call duration (seconds)')\n",
    "plt.ylabel('Frequency')\n",
    "plt.show()"
   ]
  },
  {
   "cell_type": "code",
   "execution_count": 43,
   "metadata": {},
   "outputs": [
    {
     "data": {
      "text/plain": [
       "array([1967. , 3048. , 5810.5])"
      ]
     },
     "execution_count": 43,
     "metadata": {},
     "output_type": "execute_result"
    }
   ],
   "source": [
    "np.percentile(df['call_duration'], [90, 95, 99])"
   ]
  },
  {
   "cell_type": "markdown",
   "metadata": {},
   "source": [
    "1% of the call duration more than 5810 seconds = one hour and 36 minutes. Let's assume that call duration that lasts more than hour and a half is outlier. Delete them."
   ]
  },
  {
   "cell_type": "code",
   "execution_count": 44,
   "metadata": {},
   "outputs": [],
   "source": [
    "df = df.query('call_duration < 5400')"
   ]
  },
  {
   "cell_type": "markdown",
   "metadata": {},
   "source": [
    "Let's check outliers for waiting_time."
   ]
  },
  {
   "cell_type": "code",
   "execution_count": 45,
   "metadata": {},
   "outputs": [
    {
     "data": {
      "text/plain": [
       "count    38673.000000\n",
       "mean       151.325860\n",
       "std        243.885085\n",
       "min          0.000000\n",
       "25%         17.000000\n",
       "50%         53.000000\n",
       "75%        171.000000\n",
       "max       2557.000000\n",
       "Name: waiting_time, dtype: float64"
      ]
     },
     "execution_count": 45,
     "metadata": {},
     "output_type": "execute_result"
    }
   ],
   "source": [
    "df['waiting_time'].describe()"
   ]
  },
  {
   "cell_type": "markdown",
   "metadata": {},
   "source": [
    "Maximum value of wating time is 2557 seconds = 42 minutes. It's a long wait, but things like that happen. Sometimes you call your banker and wait even more than 42 minutes for him to answer your call."
   ]
  },
  {
   "cell_type": "code",
   "execution_count": 46,
   "metadata": {},
   "outputs": [
    {
     "data": {
      "image/png": "[encoded data removed]",
      "text/plain": [
       "<Figure size 720x432 with 1 Axes>"
      ]
     },
     "metadata": {
      "needs_background": "light"
     },
     "output_type": "display_data"
    }
   ],
   "source": [
    "fig, ax = plt.subplots(figsize=(10, 6))\n",
    "df['waiting_time'].hist(log=True, bins=20)\n",
    "plt.title('Distribution of waiting time')\n",
    "plt.xlabel('Waiting time (seconds)')\n",
    "plt.ylabel('Frequency')\n",
    "plt.show()"
   ]
  },
  {
   "cell_type": "code",
   "execution_count": 47,
   "metadata": {},
   "outputs": [
    {
     "data": {
      "text/plain": [
       "array([ 423. ,  658.4, 1211. ])"
      ]
     },
     "execution_count": 47,
     "metadata": {},
     "output_type": "execute_result"
    }
   ],
   "source": [
    "np.percentile(df['waiting_time'], [90, 95, 99])"
   ]
  },
  {
   "cell_type": "markdown",
   "metadata": {},
   "source": [
    "In this case I wouldn't delete nothing."
   ]
  },
  {
   "cell_type": "code",
   "execution_count": 48,
   "metadata": {},
   "outputs": [
    {
     "data": {
      "text/plain": [
       "38673"
      ]
     },
     "execution_count": 48,
     "metadata": {},
     "output_type": "execute_result"
    }
   ],
   "source": [
    "len(df)"
   ]
  },
  {
   "cell_type": "markdown",
   "metadata": {},
   "source": [
    "We lost about 29% of the data, but now our data is less messy than it was.\n",
    "\n",
    "Summary of EDA:"
   ]
  },
  {
   "cell_type": "markdown",
   "metadata": {},
   "source": [
    "Clients dataset:\n",
    "\n",
    "* We have 732 unique users\n",
    "* Three tariff plans: A, B and C. The most popular tariff plan is C (395 users), the least popular tariff - A (76 users)\n",
    "* Registration dates between 01-08-2019 and 31-10-2019\n",
    "\n",
    "df dataset:\n",
    "\n",
    "* Only 290 of all registered users (732 users) started using their tariff plan\n",
    "* We have 1092 operators\n",
    "* Users can have from 1 to 50 operators\n",
    "* We data on calls from 02-08-2019 till 28-11-2019. The number of calls increasing during this period. We also see peaks in some days and than downs. Probably, downs were caused by low activity at weekends\n",
    "* About 70% of calls are outgoing\n",
    "* About 13% of calls made between the operators\n",
    "* About 34% calls were missed\n",
    "* Outliers were found and deleted"
   ]
  },
  {
   "cell_type": "markdown",
   "metadata": {},
   "source": [
    "### Identifying ineffective operators<a class=\"anchor\" id=\"chapter4\"></a>"
   ]
  },
  {
   "cell_type": "markdown",
   "metadata": {},
   "source": [
    "So, let's look at missed incoming calls and defined criteria for ineffectiveness of operator."
   ]
  },
  {
   "cell_type": "code",
   "execution_count": 49,
   "metadata": {},
   "outputs": [],
   "source": [
    "df_in = df.query('direction == \"in\"')"
   ]
  },
  {
   "cell_type": "markdown",
   "metadata": {},
   "source": [
    "Find number of missed calls per operator"
   ]
  },
  {
   "cell_type": "code",
   "execution_count": 50,
   "metadata": {},
   "outputs": [
    {
     "data": {
      "text/html": [
       "<div>\n",
       "<style scoped>\n",
       "    .dataframe tbody tr th:only-of-type {\n",
       "        vertical-align: middle;\n",
       "    }\n",
       "\n",
       "    .dataframe tbody tr th {\n",
       "        vertical-align: top;\n",
       "    }\n",
       "\n",
       "    .dataframe thead th {\n",
       "        text-align: right;\n",
       "    }\n",
       "</style>\n",
       "<table border=\"1\" class=\"dataframe\">\n",
       "  <thead>\n",
       "    <tr style=\"text-align: right;\">\n",
       "      <th></th>\n",
       "      <th>operator_id</th>\n",
       "      <th>total_missed_calls_per_operator</th>\n",
       "    </tr>\n",
       "  </thead>\n",
       "  <tbody>\n",
       "    <tr>\n",
       "      <td>0</td>\n",
       "      <td>882680</td>\n",
       "      <td>3</td>\n",
       "    </tr>\n",
       "    <tr>\n",
       "      <td>1</td>\n",
       "      <td>882684</td>\n",
       "      <td>4</td>\n",
       "    </tr>\n",
       "    <tr>\n",
       "      <td>2</td>\n",
       "      <td>882686</td>\n",
       "      <td>6</td>\n",
       "    </tr>\n",
       "    <tr>\n",
       "      <td>3</td>\n",
       "      <td>882690</td>\n",
       "      <td>2</td>\n",
       "    </tr>\n",
       "    <tr>\n",
       "      <td>4</td>\n",
       "      <td>884408</td>\n",
       "      <td>1</td>\n",
       "    </tr>\n",
       "  </tbody>\n",
       "</table>\n",
       "</div>"
      ],
      "text/plain": [
       "   operator_id  total_missed_calls_per_operator\n",
       "0       882680                                3\n",
       "1       882684                                4\n",
       "2       882686                                6\n",
       "3       882690                                2\n",
       "4       884408                                1"
      ]
     },
     "execution_count": 50,
     "metadata": {},
     "output_type": "execute_result"
    }
   ],
   "source": [
    "df_in_missed_calls_2 = df_in.query('is_missed_call == True')\\\n",
    "                    .groupby('operator_id')['calls_count'].sum().reset_index()\n",
    "df_in_missed_calls_2.columns = ['operator_id','total_missed_calls_per_operator']\n",
    "df_in_missed_calls_2.head()"
   ]
  },
  {
   "cell_type": "markdown",
   "metadata": {},
   "source": [
    "Now let's find total number of all calls per operator."
   ]
  },
  {
   "cell_type": "code",
   "execution_count": 51,
   "metadata": {},
   "outputs": [
    {
     "data": {
      "text/html": [
       "<div>\n",
       "<style scoped>\n",
       "    .dataframe tbody tr th:only-of-type {\n",
       "        vertical-align: middle;\n",
       "    }\n",
       "\n",
       "    .dataframe tbody tr th {\n",
       "        vertical-align: top;\n",
       "    }\n",
       "\n",
       "    .dataframe thead th {\n",
       "        text-align: right;\n",
       "    }\n",
       "</style>\n",
       "<table border=\"1\" class=\"dataframe\">\n",
       "  <thead>\n",
       "    <tr style=\"text-align: right;\">\n",
       "      <th></th>\n",
       "      <th>operator_id</th>\n",
       "      <th>total_all_calls</th>\n",
       "    </tr>\n",
       "  </thead>\n",
       "  <tbody>\n",
       "    <tr>\n",
       "      <td>0</td>\n",
       "      <td>879896</td>\n",
       "      <td>628</td>\n",
       "    </tr>\n",
       "    <tr>\n",
       "      <td>1</td>\n",
       "      <td>879898</td>\n",
       "      <td>3765</td>\n",
       "    </tr>\n",
       "    <tr>\n",
       "      <td>2</td>\n",
       "      <td>880020</td>\n",
       "      <td>45</td>\n",
       "    </tr>\n",
       "    <tr>\n",
       "      <td>3</td>\n",
       "      <td>880022</td>\n",
       "      <td>197</td>\n",
       "    </tr>\n",
       "    <tr>\n",
       "      <td>4</td>\n",
       "      <td>880026</td>\n",
       "      <td>2232</td>\n",
       "    </tr>\n",
       "  </tbody>\n",
       "</table>\n",
       "</div>"
      ],
      "text/plain": [
       "   operator_id  total_all_calls\n",
       "0       879896              628\n",
       "1       879898             3765\n",
       "2       880020               45\n",
       "3       880022              197\n",
       "4       880026             2232"
      ]
     },
     "execution_count": 51,
     "metadata": {},
     "output_type": "execute_result"
    }
   ],
   "source": [
    "total_all_calls_per_operator = df.groupby('operator_id')['calls_count'].sum().reset_index()\n",
    "total_all_calls_per_operator.columns = ['operator_id', 'total_all_calls']\n",
    "total_all_calls_per_operator.head()"
   ]
  },
  {
   "cell_type": "code",
   "execution_count": 52,
   "metadata": {},
   "outputs": [
    {
     "data": {
      "text/html": [
       "<div>\n",
       "<style scoped>\n",
       "    .dataframe tbody tr th:only-of-type {\n",
       "        vertical-align: middle;\n",
       "    }\n",
       "\n",
       "    .dataframe tbody tr th {\n",
       "        vertical-align: top;\n",
       "    }\n",
       "\n",
       "    .dataframe thead th {\n",
       "        text-align: right;\n",
       "    }\n",
       "</style>\n",
       "<table border=\"1\" class=\"dataframe\">\n",
       "  <thead>\n",
       "    <tr style=\"text-align: right;\">\n",
       "      <th></th>\n",
       "      <th>operator_id</th>\n",
       "      <th>total_missed_calls_per_operator</th>\n",
       "      <th>total_all_calls</th>\n",
       "    </tr>\n",
       "  </thead>\n",
       "  <tbody>\n",
       "    <tr>\n",
       "      <td>0</td>\n",
       "      <td>882680</td>\n",
       "      <td>3</td>\n",
       "      <td>99</td>\n",
       "    </tr>\n",
       "    <tr>\n",
       "      <td>1</td>\n",
       "      <td>882684</td>\n",
       "      <td>4</td>\n",
       "      <td>1071</td>\n",
       "    </tr>\n",
       "    <tr>\n",
       "      <td>2</td>\n",
       "      <td>882686</td>\n",
       "      <td>6</td>\n",
       "      <td>2425</td>\n",
       "    </tr>\n",
       "    <tr>\n",
       "      <td>3</td>\n",
       "      <td>882690</td>\n",
       "      <td>2</td>\n",
       "      <td>961</td>\n",
       "    </tr>\n",
       "    <tr>\n",
       "      <td>4</td>\n",
       "      <td>884408</td>\n",
       "      <td>1</td>\n",
       "      <td>57</td>\n",
       "    </tr>\n",
       "  </tbody>\n",
       "</table>\n",
       "</div>"
      ],
      "text/plain": [
       "   operator_id  total_missed_calls_per_operator  total_all_calls\n",
       "0       882680                                3               99\n",
       "1       882684                                4             1071\n",
       "2       882686                                6             2425\n",
       "3       882690                                2              961\n",
       "4       884408                                1               57"
      ]
     },
     "execution_count": 52,
     "metadata": {},
     "output_type": "execute_result"
    }
   ],
   "source": [
    "# merge two tables above\n",
    "df_in_missed_calls_merge = df_in_missed_calls_2.merge(total_all_calls_per_operator, on ='operator_id')\n",
    "df_in_missed_calls_merge.head()"
   ]
  },
  {
   "cell_type": "code",
   "execution_count": 53,
   "metadata": {},
   "outputs": [
    {
     "data": {
      "text/plain": [
       "count    200.000000\n",
       "mean       2.437350\n",
       "std        5.494752\n",
       "min        0.030000\n",
       "25%        0.230000\n",
       "50%        0.615000\n",
       "75%        2.710000\n",
       "max       50.000000\n",
       "Name: share_of_missed_calls, dtype: float64"
      ]
     },
     "execution_count": 53,
     "metadata": {},
     "output_type": "execute_result"
    }
   ],
   "source": [
    "# add column with share of missed calls to total number of calls per operator\n",
    "df_in_missed_calls_merge['share_of_missed_calls'] = round(df_in_missed_calls_merge['total_missed_calls_per_operator']\n",
    "                                                          /df_in_missed_calls_merge['total_all_calls']*100, 2)\n",
    "df_in_missed_calls_merge['share_of_missed_calls'].describe()"
   ]
  },
  {
   "cell_type": "code",
   "execution_count": 54,
   "metadata": {},
   "outputs": [
    {
     "data": {
      "image/png": "[encoded data removed]",
      "text/plain": [
       "<Figure size 432x288 with 1 Axes>"
      ]
     },
     "metadata": {
      "needs_background": "light"
     },
     "output_type": "display_data"
    }
   ],
   "source": [
    "df_in_missed_calls_merge['share_of_missed_calls'].hist()\n",
    "plt.title('Distribution of % of missed calls out of total number of calls')\n",
    "plt.xlabel('Percentage')\n",
    "plt.ylabel('Amount of operators')\n",
    "plt.show()"
   ]
  },
  {
   "cell_type": "code",
   "execution_count": 55,
   "metadata": {},
   "outputs": [
    {
     "data": {
      "text/plain": [
       "array([5.56 , 9.684])"
      ]
     },
     "execution_count": 55,
     "metadata": {},
     "output_type": "execute_result"
    }
   ],
   "source": [
    "np.percentile(df_in_missed_calls_merge['share_of_missed_calls'], [90, 95])"
   ]
  },
  {
   "cell_type": "markdown",
   "metadata": {},
   "source": [
    "We will use 90th percentile to define a threshold for a share of missed calls. Above this threshold the share of missed calls we'll be considered as large share of missed calls.\n",
    "\n",
    "#### Operator considered ineffective if he has a share of missed incoming calls more than 5%. This is our first criteria for ineffectiveness. \n"
   ]
  },
  {
   "cell_type": "markdown",
   "metadata": {},
   "source": [
    "Let's write a function that will mark the operators with share of missed calls more than 5% as \"large share of missed calls\". Than look how many such operators do we have."
   ]
  },
  {
   "cell_type": "code",
   "execution_count": 56,
   "metadata": {},
   "outputs": [],
   "source": [
    "def missed_call(share_of_missed_calls):\n",
    "    if share_of_missed_calls > 5:\n",
    "        return 'large share of missed calls'\n",
    "    else:\n",
    "        return 'ok'"
   ]
  },
  {
   "cell_type": "code",
   "execution_count": 57,
   "metadata": {},
   "outputs": [
    {
     "data": {
      "text/html": [
       "<div>\n",
       "<style scoped>\n",
       "    .dataframe tbody tr th:only-of-type {\n",
       "        vertical-align: middle;\n",
       "    }\n",
       "\n",
       "    .dataframe tbody tr th {\n",
       "        vertical-align: top;\n",
       "    }\n",
       "\n",
       "    .dataframe thead th {\n",
       "        text-align: right;\n",
       "    }\n",
       "</style>\n",
       "<table border=\"1\" class=\"dataframe\">\n",
       "  <thead>\n",
       "    <tr style=\"text-align: right;\">\n",
       "      <th></th>\n",
       "      <th>operator_id</th>\n",
       "      <th>total_missed_calls_per_operator</th>\n",
       "      <th>total_all_calls</th>\n",
       "      <th>share_of_missed_calls</th>\n",
       "    </tr>\n",
       "  </thead>\n",
       "  <tbody>\n",
       "    <tr>\n",
       "      <td>0</td>\n",
       "      <td>882680</td>\n",
       "      <td>3</td>\n",
       "      <td>99</td>\n",
       "      <td>3.03</td>\n",
       "    </tr>\n",
       "    <tr>\n",
       "      <td>1</td>\n",
       "      <td>882684</td>\n",
       "      <td>4</td>\n",
       "      <td>1071</td>\n",
       "      <td>0.37</td>\n",
       "    </tr>\n",
       "    <tr>\n",
       "      <td>2</td>\n",
       "      <td>882686</td>\n",
       "      <td>6</td>\n",
       "      <td>2425</td>\n",
       "      <td>0.25</td>\n",
       "    </tr>\n",
       "    <tr>\n",
       "      <td>3</td>\n",
       "      <td>882690</td>\n",
       "      <td>2</td>\n",
       "      <td>961</td>\n",
       "      <td>0.21</td>\n",
       "    </tr>\n",
       "    <tr>\n",
       "      <td>4</td>\n",
       "      <td>884408</td>\n",
       "      <td>1</td>\n",
       "      <td>57</td>\n",
       "      <td>1.75</td>\n",
       "    </tr>\n",
       "  </tbody>\n",
       "</table>\n",
       "</div>"
      ],
      "text/plain": [
       "   operator_id  total_missed_calls_per_operator  total_all_calls  \\\n",
       "0       882680                                3               99   \n",
       "1       882684                                4             1071   \n",
       "2       882686                                6             2425   \n",
       "3       882690                                2              961   \n",
       "4       884408                                1               57   \n",
       "\n",
       "   share_of_missed_calls  \n",
       "0                   3.03  \n",
       "1                   0.37  \n",
       "2                   0.25  \n",
       "3                   0.21  \n",
       "4                   1.75  "
      ]
     },
     "execution_count": 57,
     "metadata": {},
     "output_type": "execute_result"
    }
   ],
   "source": [
    "df_in_missed_calls_merge.head()"
   ]
  },
  {
   "cell_type": "code",
   "execution_count": 58,
   "metadata": {},
   "outputs": [],
   "source": [
    "df_in_missed_calls_merge['criteria_1'] = df_in_missed_calls_merge['share_of_missed_calls'].apply(missed_call)"
   ]
  },
  {
   "cell_type": "code",
   "execution_count": 59,
   "metadata": {},
   "outputs": [
    {
     "data": {
      "text/plain": [
       "21"
      ]
     },
     "execution_count": 59,
     "metadata": {},
     "output_type": "execute_result"
    }
   ],
   "source": [
    "# only ineffective operators\n",
    "df_in_missed_calls_merge_ineffect = df_in_missed_calls_merge.query('criteria_1 == \"large share of missed calls\"')\n",
    "df_in_missed_calls_merge_ineffect['operator_id'].nunique()"
   ]
  },
  {
   "cell_type": "markdown",
   "metadata": {},
   "source": [
    "We have 21 operators that have a ahare of missed calls more than 5%."
   ]
  },
  {
   "cell_type": "markdown",
   "metadata": {},
   "source": [
    "Let's defined the second criteria - a long waiting time for incoming calls. "
   ]
  },
  {
   "cell_type": "code",
   "execution_count": 60,
   "metadata": {},
   "outputs": [
    {
     "data": {
      "text/html": [
       "<div>\n",
       "<style scoped>\n",
       "    .dataframe tbody tr th:only-of-type {\n",
       "        vertical-align: middle;\n",
       "    }\n",
       "\n",
       "    .dataframe tbody tr th {\n",
       "        vertical-align: top;\n",
       "    }\n",
       "\n",
       "    .dataframe thead th {\n",
       "        text-align: right;\n",
       "    }\n",
       "</style>\n",
       "<table border=\"1\" class=\"dataframe\">\n",
       "  <thead>\n",
       "    <tr style=\"text-align: right;\">\n",
       "      <th></th>\n",
       "      <th>operator_id</th>\n",
       "      <th>avg_waiting_time_per_call</th>\n",
       "    </tr>\n",
       "  </thead>\n",
       "  <tbody>\n",
       "    <tr>\n",
       "      <td>0</td>\n",
       "      <td>879896</td>\n",
       "      <td>13.396199</td>\n",
       "    </tr>\n",
       "    <tr>\n",
       "      <td>1</td>\n",
       "      <td>879898</td>\n",
       "      <td>14.206548</td>\n",
       "    </tr>\n",
       "    <tr>\n",
       "      <td>2</td>\n",
       "      <td>880020</td>\n",
       "      <td>7.714286</td>\n",
       "    </tr>\n",
       "    <tr>\n",
       "      <td>3</td>\n",
       "      <td>880022</td>\n",
       "      <td>14.000000</td>\n",
       "    </tr>\n",
       "    <tr>\n",
       "      <td>4</td>\n",
       "      <td>880026</td>\n",
       "      <td>5.935185</td>\n",
       "    </tr>\n",
       "  </tbody>\n",
       "</table>\n",
       "</div>"
      ],
      "text/plain": [
       "   operator_id  avg_waiting_time_per_call\n",
       "0       879896                  13.396199\n",
       "1       879898                  14.206548\n",
       "2       880020                   7.714286\n",
       "3       880022                  14.000000\n",
       "4       880026                   5.935185"
      ]
     },
     "execution_count": 60,
     "metadata": {},
     "output_type": "execute_result"
    }
   ],
   "source": [
    "df_in_waiting_time = df_in.groupby('operator_id')['avg_waiting_time_per_call'].mean().reset_index()\n",
    "df_in_waiting_time.head()"
   ]
  },
  {
   "cell_type": "code",
   "execution_count": 61,
   "metadata": {},
   "outputs": [
    {
     "data": {
      "text/plain": [
       "count    753.000000\n",
       "mean      17.773307\n",
       "std       12.269000\n",
       "min        0.678944\n",
       "25%        9.466667\n",
       "50%       14.628354\n",
       "75%       22.250000\n",
       "max      115.500000\n",
       "Name: avg_waiting_time_per_call, dtype: float64"
      ]
     },
     "execution_count": 61,
     "metadata": {},
     "output_type": "execute_result"
    }
   ],
   "source": [
    "df_in_waiting_time['avg_waiting_time_per_call'].describe()"
   ]
  },
  {
   "cell_type": "code",
   "execution_count": 62,
   "metadata": {},
   "outputs": [
    {
     "data": {
      "text/plain": [
       "array([33.96388778, 41.94      , 57.22      ])"
      ]
     },
     "execution_count": 62,
     "metadata": {},
     "output_type": "execute_result"
    }
   ],
   "source": [
    "np.percentile(df_in_waiting_time['avg_waiting_time_per_call'], [90, 95, 99])"
   ]
  },
  {
   "cell_type": "markdown",
   "metadata": {},
   "source": [
    "In case of waiting time, we would use 90th percentile as a criteria for a long waiting time. It is very annoying to wait till the operator will answer your call.\n",
    "\n",
    "#### So, our second criteria: more than 30 seconds wait will consider  as a long waiting time "
   ]
  },
  {
   "cell_type": "markdown",
   "metadata": {},
   "source": [
    "Write a function that will mark the operators with waiting time more than 30 seconds as \"long waiting time\". Than look how many such operators do we have."
   ]
  },
  {
   "cell_type": "code",
   "execution_count": 63,
   "metadata": {},
   "outputs": [],
   "source": [
    "def waiting_time(avg_waiting_time_per_call):\n",
    "    if avg_waiting_time_per_call > 30:\n",
    "        return 'long waiting time'\n",
    "    else:\n",
    "        return 'ok'"
   ]
  },
  {
   "cell_type": "code",
   "execution_count": 64,
   "metadata": {},
   "outputs": [
    {
     "data": {
      "text/html": [
       "<div>\n",
       "<style scoped>\n",
       "    .dataframe tbody tr th:only-of-type {\n",
       "        vertical-align: middle;\n",
       "    }\n",
       "\n",
       "    .dataframe tbody tr th {\n",
       "        vertical-align: top;\n",
       "    }\n",
       "\n",
       "    .dataframe thead th {\n",
       "        text-align: right;\n",
       "    }\n",
       "</style>\n",
       "<table border=\"1\" class=\"dataframe\">\n",
       "  <thead>\n",
       "    <tr style=\"text-align: right;\">\n",
       "      <th></th>\n",
       "      <th>operator_id</th>\n",
       "      <th>avg_waiting_time_per_call</th>\n",
       "      <th>criteria_2</th>\n",
       "    </tr>\n",
       "  </thead>\n",
       "  <tbody>\n",
       "    <tr>\n",
       "      <td>0</td>\n",
       "      <td>879896</td>\n",
       "      <td>13.396199</td>\n",
       "      <td>ok</td>\n",
       "    </tr>\n",
       "    <tr>\n",
       "      <td>1</td>\n",
       "      <td>879898</td>\n",
       "      <td>14.206548</td>\n",
       "      <td>ok</td>\n",
       "    </tr>\n",
       "    <tr>\n",
       "      <td>2</td>\n",
       "      <td>880020</td>\n",
       "      <td>7.714286</td>\n",
       "      <td>ok</td>\n",
       "    </tr>\n",
       "    <tr>\n",
       "      <td>3</td>\n",
       "      <td>880022</td>\n",
       "      <td>14.000000</td>\n",
       "      <td>ok</td>\n",
       "    </tr>\n",
       "    <tr>\n",
       "      <td>4</td>\n",
       "      <td>880026</td>\n",
       "      <td>5.935185</td>\n",
       "      <td>ok</td>\n",
       "    </tr>\n",
       "  </tbody>\n",
       "</table>\n",
       "</div>"
      ],
      "text/plain": [
       "   operator_id  avg_waiting_time_per_call criteria_2\n",
       "0       879896                  13.396199         ok\n",
       "1       879898                  14.206548         ok\n",
       "2       880020                   7.714286         ok\n",
       "3       880022                  14.000000         ok\n",
       "4       880026                   5.935185         ok"
      ]
     },
     "execution_count": 64,
     "metadata": {},
     "output_type": "execute_result"
    }
   ],
   "source": [
    "df_in_waiting_time['criteria_2'] = df_in_waiting_time['avg_waiting_time_per_call']\\\n",
    "                                    .apply(waiting_time)\n",
    "\n",
    "df_in_waiting_time.head()"
   ]
  },
  {
   "cell_type": "code",
   "execution_count": 65,
   "metadata": {},
   "outputs": [
    {
     "data": {
      "text/plain": [
       "97"
      ]
     },
     "execution_count": 65,
     "metadata": {},
     "output_type": "execute_result"
    }
   ],
   "source": [
    "# only ineffective operators\n",
    "df_in_waiting_time_ineffect = df_in_waiting_time.query('criteria_2 == \"long waiting time\"')\n",
    "df_in_waiting_time_ineffect['operator_id'].nunique()"
   ]
  },
  {
   "cell_type": "markdown",
   "metadata": {},
   "source": [
    "So, we have 97 operators with more than 30 seconds waiting time."
   ]
  },
  {
   "cell_type": "markdown",
   "metadata": {},
   "source": [
    "Now, let's define the third criteria. "
   ]
  },
  {
   "cell_type": "code",
   "execution_count": 66,
   "metadata": {},
   "outputs": [],
   "source": [
    "df_out = df.query('direction == \"out\"')"
   ]
  },
  {
   "cell_type": "code",
   "execution_count": 67,
   "metadata": {},
   "outputs": [
    {
     "data": {
      "text/html": [
       "<div>\n",
       "<style scoped>\n",
       "    .dataframe tbody tr th:only-of-type {\n",
       "        vertical-align: middle;\n",
       "    }\n",
       "\n",
       "    .dataframe tbody tr th {\n",
       "        vertical-align: top;\n",
       "    }\n",
       "\n",
       "    .dataframe thead th {\n",
       "        text-align: right;\n",
       "    }\n",
       "</style>\n",
       "<table border=\"1\" class=\"dataframe\">\n",
       "  <thead>\n",
       "    <tr style=\"text-align: right;\">\n",
       "      <th></th>\n",
       "      <th>operator_id</th>\n",
       "      <th>calls_count</th>\n",
       "    </tr>\n",
       "  </thead>\n",
       "  <tbody>\n",
       "    <tr>\n",
       "      <td>0</td>\n",
       "      <td>879896</td>\n",
       "      <td>570</td>\n",
       "    </tr>\n",
       "    <tr>\n",
       "      <td>1</td>\n",
       "      <td>879898</td>\n",
       "      <td>3662</td>\n",
       "    </tr>\n",
       "    <tr>\n",
       "      <td>2</td>\n",
       "      <td>880020</td>\n",
       "      <td>38</td>\n",
       "    </tr>\n",
       "    <tr>\n",
       "      <td>3</td>\n",
       "      <td>880022</td>\n",
       "      <td>189</td>\n",
       "    </tr>\n",
       "    <tr>\n",
       "      <td>4</td>\n",
       "      <td>880026</td>\n",
       "      <td>2208</td>\n",
       "    </tr>\n",
       "  </tbody>\n",
       "</table>\n",
       "</div>"
      ],
      "text/plain": [
       "   operator_id  calls_count\n",
       "0       879896          570\n",
       "1       879898         3662\n",
       "2       880020           38\n",
       "3       880022          189\n",
       "4       880026         2208"
      ]
     },
     "execution_count": 67,
     "metadata": {},
     "output_type": "execute_result"
    }
   ],
   "source": [
    "# total of outgoing calls per operator \n",
    "df_out_calls = df_out.groupby('operator_id')['calls_count'].sum().reset_index()\n",
    "df_out_calls.head()"
   ]
  },
  {
   "cell_type": "code",
   "execution_count": 68,
   "metadata": {},
   "outputs": [
    {
     "data": {
      "text/html": [
       "<div>\n",
       "<style scoped>\n",
       "    .dataframe tbody tr th:only-of-type {\n",
       "        vertical-align: middle;\n",
       "    }\n",
       "\n",
       "    .dataframe tbody tr th {\n",
       "        vertical-align: top;\n",
       "    }\n",
       "\n",
       "    .dataframe thead th {\n",
       "        text-align: right;\n",
       "    }\n",
       "</style>\n",
       "<table border=\"1\" class=\"dataframe\">\n",
       "  <thead>\n",
       "    <tr style=\"text-align: right;\">\n",
       "      <th></th>\n",
       "      <th>operator_id</th>\n",
       "      <th>calls_count</th>\n",
       "      <th>total_all_calls</th>\n",
       "    </tr>\n",
       "  </thead>\n",
       "  <tbody>\n",
       "    <tr>\n",
       "      <td>0</td>\n",
       "      <td>879896</td>\n",
       "      <td>570</td>\n",
       "      <td>628</td>\n",
       "    </tr>\n",
       "    <tr>\n",
       "      <td>1</td>\n",
       "      <td>879898</td>\n",
       "      <td>3662</td>\n",
       "      <td>3765</td>\n",
       "    </tr>\n",
       "    <tr>\n",
       "      <td>2</td>\n",
       "      <td>880020</td>\n",
       "      <td>38</td>\n",
       "      <td>45</td>\n",
       "    </tr>\n",
       "    <tr>\n",
       "      <td>3</td>\n",
       "      <td>880022</td>\n",
       "      <td>189</td>\n",
       "      <td>197</td>\n",
       "    </tr>\n",
       "    <tr>\n",
       "      <td>4</td>\n",
       "      <td>880026</td>\n",
       "      <td>2208</td>\n",
       "      <td>2232</td>\n",
       "    </tr>\n",
       "  </tbody>\n",
       "</table>\n",
       "</div>"
      ],
      "text/plain": [
       "   operator_id  calls_count  total_all_calls\n",
       "0       879896          570              628\n",
       "1       879898         3662             3765\n",
       "2       880020           38               45\n",
       "3       880022          189              197\n",
       "4       880026         2208             2232"
      ]
     },
     "execution_count": 68,
     "metadata": {},
     "output_type": "execute_result"
    }
   ],
   "source": [
    "# merge two tables total_all_calls_per_operator and df_out_calls\n",
    "df_out_calls_merge = df_out_calls.merge(total_all_calls_per_operator, on = 'operator_id')\n",
    "df_out_calls_merge.head()"
   ]
  },
  {
   "cell_type": "code",
   "execution_count": 69,
   "metadata": {},
   "outputs": [
    {
     "data": {
      "text/html": [
       "<div>\n",
       "<style scoped>\n",
       "    .dataframe tbody tr th:only-of-type {\n",
       "        vertical-align: middle;\n",
       "    }\n",
       "\n",
       "    .dataframe tbody tr th {\n",
       "        vertical-align: top;\n",
       "    }\n",
       "\n",
       "    .dataframe thead th {\n",
       "        text-align: right;\n",
       "    }\n",
       "</style>\n",
       "<table border=\"1\" class=\"dataframe\">\n",
       "  <thead>\n",
       "    <tr style=\"text-align: right;\">\n",
       "      <th></th>\n",
       "      <th>operator_id</th>\n",
       "      <th>calls_count</th>\n",
       "      <th>total_all_calls</th>\n",
       "      <th>share_of_out_to_total_%</th>\n",
       "    </tr>\n",
       "  </thead>\n",
       "  <tbody>\n",
       "    <tr>\n",
       "      <td>0</td>\n",
       "      <td>879896</td>\n",
       "      <td>570</td>\n",
       "      <td>628</td>\n",
       "      <td>90.76</td>\n",
       "    </tr>\n",
       "    <tr>\n",
       "      <td>1</td>\n",
       "      <td>879898</td>\n",
       "      <td>3662</td>\n",
       "      <td>3765</td>\n",
       "      <td>97.26</td>\n",
       "    </tr>\n",
       "    <tr>\n",
       "      <td>2</td>\n",
       "      <td>880020</td>\n",
       "      <td>38</td>\n",
       "      <td>45</td>\n",
       "      <td>84.44</td>\n",
       "    </tr>\n",
       "    <tr>\n",
       "      <td>3</td>\n",
       "      <td>880022</td>\n",
       "      <td>189</td>\n",
       "      <td>197</td>\n",
       "      <td>95.94</td>\n",
       "    </tr>\n",
       "    <tr>\n",
       "      <td>4</td>\n",
       "      <td>880026</td>\n",
       "      <td>2208</td>\n",
       "      <td>2232</td>\n",
       "      <td>98.92</td>\n",
       "    </tr>\n",
       "  </tbody>\n",
       "</table>\n",
       "</div>"
      ],
      "text/plain": [
       "   operator_id  calls_count  total_all_calls  share_of_out_to_total_%\n",
       "0       879896          570              628                    90.76\n",
       "1       879898         3662             3765                    97.26\n",
       "2       880020           38               45                    84.44\n",
       "3       880022          189              197                    95.94\n",
       "4       880026         2208             2232                    98.92"
      ]
     },
     "execution_count": 69,
     "metadata": {},
     "output_type": "execute_result"
    }
   ],
   "source": [
    "# add column with share of outgoing calls out of total calls per operator \n",
    "df_out_calls_merge['share_of_out_to_total_%'] = round(df_out_calls_merge['calls_count']/\n",
    "                                                              df_out_calls_merge['total_all_calls']*100, 2)\n",
    "df_out_calls_merge.head()"
   ]
  },
  {
   "cell_type": "code",
   "execution_count": 70,
   "metadata": {},
   "outputs": [
    {
     "data": {
      "text/plain": [
       "count    882.000000\n",
       "mean      79.475692\n",
       "std       26.985185\n",
       "min        0.150000\n",
       "25%       65.987500\n",
       "50%       93.405000\n",
       "75%      100.000000\n",
       "max      100.000000\n",
       "Name: share_of_out_to_total_%, dtype: float64"
      ]
     },
     "execution_count": 70,
     "metadata": {},
     "output_type": "execute_result"
    }
   ],
   "source": [
    "df_out_calls_merge['share_of_out_to_total_%'].describe()"
   ]
  },
  {
   "cell_type": "code",
   "execution_count": 71,
   "metadata": {},
   "outputs": [
    {
     "data": {
      "image/png": "[encoded data removed]",
      "text/plain": [
       "<Figure size 432x288 with 1 Axes>"
      ]
     },
     "metadata": {
      "needs_background": "light"
     },
     "output_type": "display_data"
    }
   ],
   "source": [
    "df_out_calls_merge['share_of_out_to_total_%'].hist()\n",
    "plt.title('Distribution of % of outgoing calls out of total number of calls per operator')\n",
    "plt.xlabel('Percentage')\n",
    "plt.ylabel('Amount of operators')\n",
    "plt.show()"
   ]
  },
  {
   "cell_type": "code",
   "execution_count": 72,
   "metadata": {},
   "outputs": [
    {
     "data": {
      "text/plain": [
       "array([34.738 , 56.748 , 65.9875, 72.57  ])"
      ]
     },
     "execution_count": 72,
     "metadata": {},
     "output_type": "execute_result"
    }
   ],
   "source": [
    "np.percentile(df_out_calls_merge['share_of_out_to_total_%'], [10, 20, 25, 30])"
   ]
  },
  {
   "cell_type": "markdown",
   "metadata": {},
   "source": [
    "Let's take 25th percentile as a threshold.\n",
    "\n",
    "#### Third criteria: operators that have a share of outgoing calls less than 65% are considered ineffective."
   ]
  },
  {
   "cell_type": "markdown",
   "metadata": {},
   "source": [
    "Write a function that will mark the operators with share of outgoing calls less than 65% as \"small share of outgoing calls\". Than look how many such operators do we have."
   ]
  },
  {
   "cell_type": "code",
   "execution_count": 73,
   "metadata": {},
   "outputs": [],
   "source": [
    "def outgoing_calls(share_of_out_calls):\n",
    "    if share_of_out_calls < 65:\n",
    "        return 'small share of outgoing calls'\n",
    "    else:\n",
    "        return 'ok'"
   ]
  },
  {
   "cell_type": "code",
   "execution_count": 74,
   "metadata": {},
   "outputs": [
    {
     "data": {
      "text/html": [
       "<div>\n",
       "<style scoped>\n",
       "    .dataframe tbody tr th:only-of-type {\n",
       "        vertical-align: middle;\n",
       "    }\n",
       "\n",
       "    .dataframe tbody tr th {\n",
       "        vertical-align: top;\n",
       "    }\n",
       "\n",
       "    .dataframe thead th {\n",
       "        text-align: right;\n",
       "    }\n",
       "</style>\n",
       "<table border=\"1\" class=\"dataframe\">\n",
       "  <thead>\n",
       "    <tr style=\"text-align: right;\">\n",
       "      <th></th>\n",
       "      <th>operator_id</th>\n",
       "      <th>calls_count</th>\n",
       "      <th>total_all_calls</th>\n",
       "      <th>share_of_out_to_total_%</th>\n",
       "      <th>criteria_3</th>\n",
       "    </tr>\n",
       "  </thead>\n",
       "  <tbody>\n",
       "    <tr>\n",
       "      <td>0</td>\n",
       "      <td>879896</td>\n",
       "      <td>570</td>\n",
       "      <td>628</td>\n",
       "      <td>90.76</td>\n",
       "      <td>ok</td>\n",
       "    </tr>\n",
       "    <tr>\n",
       "      <td>1</td>\n",
       "      <td>879898</td>\n",
       "      <td>3662</td>\n",
       "      <td>3765</td>\n",
       "      <td>97.26</td>\n",
       "      <td>ok</td>\n",
       "    </tr>\n",
       "    <tr>\n",
       "      <td>2</td>\n",
       "      <td>880020</td>\n",
       "      <td>38</td>\n",
       "      <td>45</td>\n",
       "      <td>84.44</td>\n",
       "      <td>ok</td>\n",
       "    </tr>\n",
       "    <tr>\n",
       "      <td>3</td>\n",
       "      <td>880022</td>\n",
       "      <td>189</td>\n",
       "      <td>197</td>\n",
       "      <td>95.94</td>\n",
       "      <td>ok</td>\n",
       "    </tr>\n",
       "    <tr>\n",
       "      <td>4</td>\n",
       "      <td>880026</td>\n",
       "      <td>2208</td>\n",
       "      <td>2232</td>\n",
       "      <td>98.92</td>\n",
       "      <td>ok</td>\n",
       "    </tr>\n",
       "  </tbody>\n",
       "</table>\n",
       "</div>"
      ],
      "text/plain": [
       "   operator_id  calls_count  total_all_calls  share_of_out_to_total_%  \\\n",
       "0       879896          570              628                    90.76   \n",
       "1       879898         3662             3765                    97.26   \n",
       "2       880020           38               45                    84.44   \n",
       "3       880022          189              197                    95.94   \n",
       "4       880026         2208             2232                    98.92   \n",
       "\n",
       "  criteria_3  \n",
       "0         ok  \n",
       "1         ok  \n",
       "2         ok  \n",
       "3         ok  \n",
       "4         ok  "
      ]
     },
     "execution_count": 74,
     "metadata": {},
     "output_type": "execute_result"
    }
   ],
   "source": [
    "df_out_calls_merge['criteria_3'] = df_out_calls_merge['share_of_out_to_total_%'].apply(outgoing_calls)\n",
    "\n",
    "df_out_calls_merge.head()"
   ]
  },
  {
   "cell_type": "code",
   "execution_count": 75,
   "metadata": {},
   "outputs": [
    {
     "data": {
      "text/plain": [
       "217"
      ]
     },
     "execution_count": 75,
     "metadata": {},
     "output_type": "execute_result"
    }
   ],
   "source": [
    "# only ineffective operators\n",
    "df_out_calls_merge_ineffect = df_out_calls_merge.query('criteria_3 == \"small share of outgoing calls\"')\n",
    "df_out_calls_merge_ineffect['operator_id'].nunique()"
   ]
  },
  {
   "cell_type": "markdown",
   "metadata": {},
   "source": [
    "We have 217 operators that have small share of outgoing calls."
   ]
  },
  {
   "cell_type": "code",
   "execution_count": 76,
   "metadata": {},
   "outputs": [
    {
     "data": {
      "text/html": [
       "<div>\n",
       "<style scoped>\n",
       "    .dataframe tbody tr th:only-of-type {\n",
       "        vertical-align: middle;\n",
       "    }\n",
       "\n",
       "    .dataframe tbody tr th {\n",
       "        vertical-align: top;\n",
       "    }\n",
       "\n",
       "    .dataframe thead th {\n",
       "        text-align: right;\n",
       "    }\n",
       "</style>\n",
       "<table border=\"1\" class=\"dataframe\">\n",
       "  <thead>\n",
       "    <tr style=\"text-align: right;\">\n",
       "      <th></th>\n",
       "      <th>operator_id</th>\n",
       "      <th>total_missed_calls_per_operator</th>\n",
       "      <th>total_all_calls_x</th>\n",
       "      <th>share_of_missed_calls</th>\n",
       "      <th>criteria_1</th>\n",
       "      <th>avg_waiting_time_per_call</th>\n",
       "      <th>criteria_2</th>\n",
       "      <th>calls_count</th>\n",
       "      <th>total_all_calls_y</th>\n",
       "      <th>share_of_out_to_total_%</th>\n",
       "      <th>criteria_3</th>\n",
       "    </tr>\n",
       "  </thead>\n",
       "  <tbody>\n",
       "    <tr>\n",
       "      <td>0</td>\n",
       "      <td>888406</td>\n",
       "      <td>1.0</td>\n",
       "      <td>15.0</td>\n",
       "      <td>6.67</td>\n",
       "      <td>large share of missed calls</td>\n",
       "      <td>NaN</td>\n",
       "      <td>NaN</td>\n",
       "      <td>6.0</td>\n",
       "      <td>15.0</td>\n",
       "      <td>40.0</td>\n",
       "      <td>small share of outgoing calls</td>\n",
       "    </tr>\n",
       "    <tr>\n",
       "      <td>1</td>\n",
       "      <td>894120</td>\n",
       "      <td>1.0</td>\n",
       "      <td>18.0</td>\n",
       "      <td>5.56</td>\n",
       "      <td>large share of missed calls</td>\n",
       "      <td>NaN</td>\n",
       "      <td>NaN</td>\n",
       "      <td>NaN</td>\n",
       "      <td>NaN</td>\n",
       "      <td>NaN</td>\n",
       "      <td>NaN</td>\n",
       "    </tr>\n",
       "    <tr>\n",
       "      <td>2</td>\n",
       "      <td>894614</td>\n",
       "      <td>1.0</td>\n",
       "      <td>8.0</td>\n",
       "      <td>12.50</td>\n",
       "      <td>large share of missed calls</td>\n",
       "      <td>NaN</td>\n",
       "      <td>NaN</td>\n",
       "      <td>NaN</td>\n",
       "      <td>NaN</td>\n",
       "      <td>NaN</td>\n",
       "      <td>NaN</td>\n",
       "    </tr>\n",
       "    <tr>\n",
       "      <td>3</td>\n",
       "      <td>896538</td>\n",
       "      <td>1.0</td>\n",
       "      <td>14.0</td>\n",
       "      <td>7.14</td>\n",
       "      <td>large share of missed calls</td>\n",
       "      <td>48.090909</td>\n",
       "      <td>long waiting time</td>\n",
       "      <td>NaN</td>\n",
       "      <td>NaN</td>\n",
       "      <td>NaN</td>\n",
       "      <td>NaN</td>\n",
       "    </tr>\n",
       "    <tr>\n",
       "      <td>4</td>\n",
       "      <td>899268</td>\n",
       "      <td>2.0</td>\n",
       "      <td>31.0</td>\n",
       "      <td>6.45</td>\n",
       "      <td>large share of missed calls</td>\n",
       "      <td>NaN</td>\n",
       "      <td>NaN</td>\n",
       "      <td>NaN</td>\n",
       "      <td>NaN</td>\n",
       "      <td>NaN</td>\n",
       "      <td>NaN</td>\n",
       "    </tr>\n",
       "  </tbody>\n",
       "</table>\n",
       "</div>"
      ],
      "text/plain": [
       "   operator_id  total_missed_calls_per_operator  total_all_calls_x  \\\n",
       "0       888406                              1.0               15.0   \n",
       "1       894120                              1.0               18.0   \n",
       "2       894614                              1.0                8.0   \n",
       "3       896538                              1.0               14.0   \n",
       "4       899268                              2.0               31.0   \n",
       "\n",
       "   share_of_missed_calls                   criteria_1  \\\n",
       "0                   6.67  large share of missed calls   \n",
       "1                   5.56  large share of missed calls   \n",
       "2                  12.50  large share of missed calls   \n",
       "3                   7.14  large share of missed calls   \n",
       "4                   6.45  large share of missed calls   \n",
       "\n",
       "   avg_waiting_time_per_call         criteria_2  calls_count  \\\n",
       "0                        NaN                NaN          6.0   \n",
       "1                        NaN                NaN          NaN   \n",
       "2                        NaN                NaN          NaN   \n",
       "3                  48.090909  long waiting time          NaN   \n",
       "4                        NaN                NaN          NaN   \n",
       "\n",
       "   total_all_calls_y  share_of_out_to_total_%                     criteria_3  \n",
       "0               15.0                     40.0  small share of outgoing calls  \n",
       "1                NaN                      NaN                            NaN  \n",
       "2                NaN                      NaN                            NaN  \n",
       "3                NaN                      NaN                            NaN  \n",
       "4                NaN                      NaN                            NaN  "
      ]
     },
     "execution_count": 76,
     "metadata": {},
     "output_type": "execute_result"
    }
   ],
   "source": [
    "ineffective = df_in_missed_calls_merge_ineffect.merge(df_in_waiting_time_ineffect, on ='operator_id', how = 'outer')\\\n",
    "                            .merge(df_out_calls_merge_ineffect, on = 'operator_id', how = 'outer')\n",
    "ineffective.head(5)"
   ]
  },
  {
   "cell_type": "markdown",
   "metadata": {},
   "source": [
    "Write a function that summarize all three criterias:\n",
    "* If operator has large share of missed calls and long waiting time and small share of outgoing calls his is \"bad at all\".\n",
    "* If operator is bad in two of three criterias, we'll write those two criterias.\n",
    "* If operator is bad only in one criteria, we'll write this criteria"
   ]
  },
  {
   "cell_type": "code",
   "execution_count": 77,
   "metadata": {},
   "outputs": [],
   "source": [
    "def total_criteria(row):\n",
    "    if (row['criteria_1'] == \"large share of missed calls\") & (row['criteria_2'] == \"long waiting time\") & (row['criteria_3'] == \"small share of outgoing calls\"):\n",
    "        return \"bad at all\"\n",
    "    if (row['criteria_2'] == \"long waiting time\") & (row['criteria_3'] == \"small share of outgoing calls\"):\n",
    "        return \"long wait and small share of outgoing calls\"\n",
    "    if (row['criteria_1'] == \"large share of missed calls\") & (row['criteria_3'] == \"small share of outgoing calls\"):\n",
    "        return \"large share of missed calls and small share of outgoing calls\"\n",
    "    if (row['criteria_1'] == \"large share of missed calls\") & (row['criteria_2'] == \"long waiting time\"):\n",
    "        return \"large share of missed calls and long wait\"\n",
    "    if row['criteria_1'] == \"large share of missed calls\":\n",
    "        return \"large share of missed calls\"\n",
    "    if row['criteria_2'] == \"long waiting time\":\n",
    "        return \"long waiting time\"\n",
    "    if row['criteria_3'] == \"small share of outgoing calls\":\n",
    "        return \"small share of outgoing calls\"\n",
    "    else:\n",
    "        return \"other\""
   ]
  },
  {
   "cell_type": "code",
   "execution_count": 78,
   "metadata": {},
   "outputs": [
    {
     "data": {
      "text/html": [
       "<div>\n",
       "<style scoped>\n",
       "    .dataframe tbody tr th:only-of-type {\n",
       "        vertical-align: middle;\n",
       "    }\n",
       "\n",
       "    .dataframe tbody tr th {\n",
       "        vertical-align: top;\n",
       "    }\n",
       "\n",
       "    .dataframe thead th {\n",
       "        text-align: right;\n",
       "    }\n",
       "</style>\n",
       "<table border=\"1\" class=\"dataframe\">\n",
       "  <thead>\n",
       "    <tr style=\"text-align: right;\">\n",
       "      <th></th>\n",
       "      <th>operator_id</th>\n",
       "      <th>total_missed_calls_per_operator</th>\n",
       "      <th>total_all_calls_x</th>\n",
       "      <th>share_of_missed_calls</th>\n",
       "      <th>criteria_1</th>\n",
       "      <th>avg_waiting_time_per_call</th>\n",
       "      <th>criteria_2</th>\n",
       "      <th>calls_count</th>\n",
       "      <th>total_all_calls_y</th>\n",
       "      <th>share_of_out_to_total_%</th>\n",
       "      <th>criteria_3</th>\n",
       "      <th>total_criteria</th>\n",
       "    </tr>\n",
       "  </thead>\n",
       "  <tbody>\n",
       "    <tr>\n",
       "      <td>0</td>\n",
       "      <td>888406</td>\n",
       "      <td>1.0</td>\n",
       "      <td>15.0</td>\n",
       "      <td>6.67</td>\n",
       "      <td>large share of missed calls</td>\n",
       "      <td>NaN</td>\n",
       "      <td>NaN</td>\n",
       "      <td>6.0</td>\n",
       "      <td>15.0</td>\n",
       "      <td>40.0</td>\n",
       "      <td>small share of outgoing calls</td>\n",
       "      <td>large share of missed calls and small share of...</td>\n",
       "    </tr>\n",
       "    <tr>\n",
       "      <td>1</td>\n",
       "      <td>894120</td>\n",
       "      <td>1.0</td>\n",
       "      <td>18.0</td>\n",
       "      <td>5.56</td>\n",
       "      <td>large share of missed calls</td>\n",
       "      <td>NaN</td>\n",
       "      <td>NaN</td>\n",
       "      <td>NaN</td>\n",
       "      <td>NaN</td>\n",
       "      <td>NaN</td>\n",
       "      <td>NaN</td>\n",
       "      <td>large share of missed calls</td>\n",
       "    </tr>\n",
       "    <tr>\n",
       "      <td>2</td>\n",
       "      <td>894614</td>\n",
       "      <td>1.0</td>\n",
       "      <td>8.0</td>\n",
       "      <td>12.50</td>\n",
       "      <td>large share of missed calls</td>\n",
       "      <td>NaN</td>\n",
       "      <td>NaN</td>\n",
       "      <td>NaN</td>\n",
       "      <td>NaN</td>\n",
       "      <td>NaN</td>\n",
       "      <td>NaN</td>\n",
       "      <td>large share of missed calls</td>\n",
       "    </tr>\n",
       "    <tr>\n",
       "      <td>3</td>\n",
       "      <td>896538</td>\n",
       "      <td>1.0</td>\n",
       "      <td>14.0</td>\n",
       "      <td>7.14</td>\n",
       "      <td>large share of missed calls</td>\n",
       "      <td>48.090909</td>\n",
       "      <td>long waiting time</td>\n",
       "      <td>NaN</td>\n",
       "      <td>NaN</td>\n",
       "      <td>NaN</td>\n",
       "      <td>NaN</td>\n",
       "      <td>large share of missed calls and long wait</td>\n",
       "    </tr>\n",
       "    <tr>\n",
       "      <td>4</td>\n",
       "      <td>899268</td>\n",
       "      <td>2.0</td>\n",
       "      <td>31.0</td>\n",
       "      <td>6.45</td>\n",
       "      <td>large share of missed calls</td>\n",
       "      <td>NaN</td>\n",
       "      <td>NaN</td>\n",
       "      <td>NaN</td>\n",
       "      <td>NaN</td>\n",
       "      <td>NaN</td>\n",
       "      <td>NaN</td>\n",
       "      <td>large share of missed calls</td>\n",
       "    </tr>\n",
       "  </tbody>\n",
       "</table>\n",
       "</div>"
      ],
      "text/plain": [
       "   operator_id  total_missed_calls_per_operator  total_all_calls_x  \\\n",
       "0       888406                              1.0               15.0   \n",
       "1       894120                              1.0               18.0   \n",
       "2       894614                              1.0                8.0   \n",
       "3       896538                              1.0               14.0   \n",
       "4       899268                              2.0               31.0   \n",
       "\n",
       "   share_of_missed_calls                   criteria_1  \\\n",
       "0                   6.67  large share of missed calls   \n",
       "1                   5.56  large share of missed calls   \n",
       "2                  12.50  large share of missed calls   \n",
       "3                   7.14  large share of missed calls   \n",
       "4                   6.45  large share of missed calls   \n",
       "\n",
       "   avg_waiting_time_per_call         criteria_2  calls_count  \\\n",
       "0                        NaN                NaN          6.0   \n",
       "1                        NaN                NaN          NaN   \n",
       "2                        NaN                NaN          NaN   \n",
       "3                  48.090909  long waiting time          NaN   \n",
       "4                        NaN                NaN          NaN   \n",
       "\n",
       "   total_all_calls_y  share_of_out_to_total_%                     criteria_3  \\\n",
       "0               15.0                     40.0  small share of outgoing calls   \n",
       "1                NaN                      NaN                            NaN   \n",
       "2                NaN                      NaN                            NaN   \n",
       "3                NaN                      NaN                            NaN   \n",
       "4                NaN                      NaN                            NaN   \n",
       "\n",
       "                                      total_criteria  \n",
       "0  large share of missed calls and small share of...  \n",
       "1                        large share of missed calls  \n",
       "2                        large share of missed calls  \n",
       "3          large share of missed calls and long wait  \n",
       "4                        large share of missed calls  "
      ]
     },
     "execution_count": 78,
     "metadata": {},
     "output_type": "execute_result"
    }
   ],
   "source": [
    "ineffective['total_criteria'] = ineffective.apply(total_criteria, axis = 1)\n",
    "ineffective.head()"
   ]
  },
  {
   "cell_type": "code",
   "execution_count": 79,
   "metadata": {},
   "outputs": [
    {
     "data": {
      "text/html": [
       "<div>\n",
       "<style scoped>\n",
       "    .dataframe tbody tr th:only-of-type {\n",
       "        vertical-align: middle;\n",
       "    }\n",
       "\n",
       "    .dataframe tbody tr th {\n",
       "        vertical-align: top;\n",
       "    }\n",
       "\n",
       "    .dataframe thead th {\n",
       "        text-align: right;\n",
       "    }\n",
       "</style>\n",
       "<table border=\"1\" class=\"dataframe\">\n",
       "  <thead>\n",
       "    <tr style=\"text-align: right;\">\n",
       "      <th></th>\n",
       "      <th>criteria</th>\n",
       "      <th>num_of_operators</th>\n",
       "    </tr>\n",
       "  </thead>\n",
       "  <tbody>\n",
       "    <tr>\n",
       "      <td>0</td>\n",
       "      <td>small share of outgoing calls</td>\n",
       "      <td>180</td>\n",
       "    </tr>\n",
       "    <tr>\n",
       "      <td>1</td>\n",
       "      <td>long waiting time</td>\n",
       "      <td>65</td>\n",
       "    </tr>\n",
       "    <tr>\n",
       "      <td>2</td>\n",
       "      <td>long wait and small share of outgoing calls</td>\n",
       "      <td>29</td>\n",
       "    </tr>\n",
       "    <tr>\n",
       "      <td>3</td>\n",
       "      <td>large share of missed calls</td>\n",
       "      <td>11</td>\n",
       "    </tr>\n",
       "    <tr>\n",
       "      <td>4</td>\n",
       "      <td>large share of missed calls and small share of...</td>\n",
       "      <td>7</td>\n",
       "    </tr>\n",
       "    <tr>\n",
       "      <td>5</td>\n",
       "      <td>large share of missed calls and long wait</td>\n",
       "      <td>2</td>\n",
       "    </tr>\n",
       "    <tr>\n",
       "      <td>6</td>\n",
       "      <td>bad at all</td>\n",
       "      <td>1</td>\n",
       "    </tr>\n",
       "  </tbody>\n",
       "</table>\n",
       "</div>"
      ],
      "text/plain": [
       "                                            criteria  num_of_operators\n",
       "0                      small share of outgoing calls               180\n",
       "1                                  long waiting time                65\n",
       "2        long wait and small share of outgoing calls                29\n",
       "3                        large share of missed calls                11\n",
       "4  large share of missed calls and small share of...                 7\n",
       "5          large share of missed calls and long wait                 2\n",
       "6                                         bad at all                 1"
      ]
     },
     "execution_count": 79,
     "metadata": {},
     "output_type": "execute_result"
    }
   ],
   "source": [
    "ineffect = ineffective['total_criteria'].value_counts().reset_index()\n",
    "ineffect.columns =['criteria', 'num_of_operators']\n",
    "ineffect"
   ]
  },
  {
   "cell_type": "code",
   "execution_count": 80,
   "metadata": {},
   "outputs": [
    {
     "data": {
      "image/png": "[encoded data removed]",
      "text/plain": [
       "<Figure size 576x360 with 1 Axes>"
      ]
     },
     "metadata": {
      "needs_background": "light"
     },
     "output_type": "display_data"
    }
   ],
   "source": [
    "plt.figure(figsize=(8, 5))\n",
    "ax = sns.barplot(data = ineffect, x='criteria', y='num_of_operators')\n",
    "\n",
    "plt.title('Number of operators for criterias')\n",
    "plt.xlabel('Criteria')\n",
    "plt.ylabel('Number of operators')\n",
    "\n",
    "for p in ax.patches:\n",
    "    ax.annotate(format(p.get_height(), '.2f'), \n",
    "                xy=(p.get_x() + p.get_width() / 2., p.get_height()), \n",
    "                ha = 'center', \n",
    "                va = 'center', \n",
    "                xytext = (0, 10), \n",
    "                textcoords = 'offset points')\n",
    "    \n",
    "for item in ax.get_xticklabels():\n",
    "    item.set_rotation(70)\n",
    "\n",
    "plt.show()"
   ]
  },
  {
   "cell_type": "markdown",
   "metadata": {},
   "source": [
    "We used 90th percentile to define a threshold for a share of missed calls. So, our first criteria for ineffectiveness is: \n",
    "\n",
    "#### Operator considered ineffective if he has a share of missed incoming calls more than 5%. \n",
    "\n",
    "We used 90th percentile to determine the threshold for a long waiting time. So, our second criteria is: \n",
    "\n",
    "#### Waiting time more than 30 seconds consider as a long waiting time.\n",
    "\n",
    "We used 25th percentile as a threshold for small share of outgoing calls. So, the third criteria is: \n",
    "\n",
    "#### Operators that have a share of outgoing calls less than 65% are considered ineffective.\n",
    "\n",
    "\n",
    "Operators that have all three criterias simultaneously:\n",
    "\n",
    "* We have only 1 operator that is \"bad\" at all three criterias simultaneously.\n",
    "\n",
    "Operators that have two criterias simultaneously:\n",
    "\n",
    "* 29 operators have long wait and small share of outgoing calls\n",
    "* 7 operators large share of missed calls and small share of outgoing calls\n",
    "* 2 operators large share of missed calls and long wait\n",
    "\n",
    "Operators that have only one criteria:\n",
    "\n",
    "* 180 operators have small share of outgoing calls\n",
    "* 65 have long waiting time\n",
    "* 11 operator has large share of missed calls\n",
    "\n",
    "So, we identified 295 ineffective operators. About 61% of them have small share of outgoing calls.  About 22% of all ineffective operators have long waiting time. It's really annoying to wait until your operator answers your call and may cause a loss of clients. About 9% have both criterias above: long wait and small share of outgoing calls. 3% have large share of missed calls.  \n"
   ]
  },
  {
   "cell_type": "markdown",
   "metadata": {},
   "source": [
    "### Testing hypothesis<a class=\"anchor\" id=\"chapter5\"></a>"
   ]
  },
  {
   "cell_type": "markdown",
   "metadata": {},
   "source": [
    "Let's check if there is statistically significant difference in average waiting time between effective and ineffective operators. "
   ]
  },
  {
   "cell_type": "markdown",
   "metadata": {},
   "source": [
    "* Ineffective operators"
   ]
  },
  {
   "cell_type": "code",
   "execution_count": 81,
   "metadata": {},
   "outputs": [
    {
     "data": {
      "text/plain": [
       "count     97.000000\n",
       "mean      42.430151\n",
       "std       12.773510\n",
       "min       30.017857\n",
       "25%       34.500000\n",
       "50%       39.139216\n",
       "75%       46.187500\n",
       "max      115.500000\n",
       "Name: avg_waiting_time_per_call, dtype: float64"
      ]
     },
     "execution_count": 81,
     "metadata": {},
     "output_type": "execute_result"
    }
   ],
   "source": [
    "df_in_waiting_time_ineffect['avg_waiting_time_per_call'].describe()"
   ]
  },
  {
   "cell_type": "code",
   "execution_count": 82,
   "metadata": {},
   "outputs": [
    {
     "data": {
      "image/png": "[encoded data removed]",
      "text/plain": [
       "<Figure size 432x288 with 1 Axes>"
      ]
     },
     "metadata": {
      "needs_background": "light"
     },
     "output_type": "display_data"
    }
   ],
   "source": [
    "df_in_waiting_time_ineffect['avg_waiting_time_per_call'].hist()\n",
    "plt.title(\"Distribution of average waiting time per call for inefective operators\")\n",
    "plt.show()"
   ]
  },
  {
   "cell_type": "markdown",
   "metadata": {},
   "source": [
    "* Effective operators\n",
    "\n",
    "Effective operators are those who do not have any of the three criteria (they have \"ok\" for all three criteria)."
   ]
  },
  {
   "cell_type": "code",
   "execution_count": 83,
   "metadata": {},
   "outputs": [],
   "source": [
    "# operator_id of ineffective operators\n",
    "ineffective_id = ineffective['operator_id'].to_numpy()\n",
    "\n",
    "# data for effective operators\n",
    "effective = df_in[~df_in['operator_id'].isin(ineffective_id)]"
   ]
  },
  {
   "cell_type": "code",
   "execution_count": 84,
   "metadata": {},
   "outputs": [
    {
     "data": {
      "text/plain": [
       "count    458.000000\n",
       "mean      14.312069\n",
       "std        6.531788\n",
       "min        0.833333\n",
       "25%        9.175000\n",
       "50%       13.717437\n",
       "75%       18.459259\n",
       "max       30.000000\n",
       "Name: avg_waiting_time_per_call, dtype: float64"
      ]
     },
     "execution_count": 84,
     "metadata": {},
     "output_type": "execute_result"
    }
   ],
   "source": [
    "df_in_waiting_time_effect = effective.groupby('operator_id')['avg_waiting_time_per_call'].mean().reset_index()\n",
    "df_in_waiting_time_effect['avg_waiting_time_per_call'].describe()"
   ]
  },
  {
   "cell_type": "code",
   "execution_count": 85,
   "metadata": {},
   "outputs": [
    {
     "data": {
      "image/png": "[encoded data removed]",
      "text/plain": [
       "<Figure size 432x288 with 1 Axes>"
      ]
     },
     "metadata": {
      "needs_background": "light"
     },
     "output_type": "display_data"
    }
   ],
   "source": [
    "df_in_waiting_time_effect['avg_waiting_time_per_call'].hist()\n",
    "plt.title(\"Distribution of average waiting time per call for efective operators\")\n",
    "plt.show()"
   ]
  },
  {
   "cell_type": "markdown",
   "metadata": {},
   "source": [
    "Let's define hipothesis\n",
    "\n",
    "Null Hypothesis H0: There is no statistically significant difference in average waiting time between effective and ineffective operators. \n",
    "\n",
    "Alternative Hypothesis H1: There is a statistically significant difference in average waiting time between effective and ineffective operators. \n",
    "\n",
    "Let's set alpha value to 0.05."
   ]
  },
  {
   "cell_type": "markdown",
   "metadata": {},
   "source": [
    "#### The data isn't distributed normally, so we'll use Mann-Whitney test"
   ]
  },
  {
   "cell_type": "code",
   "execution_count": 86,
   "metadata": {},
   "outputs": [
    {
     "name": "stdout",
     "output_type": "stream",
     "text": [
      "P_value is: 2.279390812196953e-54 \n",
      "\n",
      "Reject Null hypothesis: There is a statistically significant difference in average waiting time between effective and ineffective operators.\n"
     ]
    }
   ],
   "source": [
    "alpha = 0.05\n",
    "p_value = st.mannwhitneyu(df_in_waiting_time_effect['avg_waiting_time_per_call'], df_in_waiting_time_ineffect['avg_waiting_time_per_call'])[1]\n",
    "\n",
    "print('P_value is: {} \\n'.format(p_value))\n",
    "if p_value < alpha:\n",
    "    print('Reject Null hypothesis: There is a statistically significant difference in average waiting time between effective and ineffective operators.')\n",
    "else:\n",
    "    print('Failed to reject Null hypothesis: There is no statistically significant difference in average waiting time between effective and ineffective operators.')"
   ]
  },
  {
   "cell_type": "markdown",
   "metadata": {},
   "source": [
    "P_value is much smaller than alpha. So, we reject Null hypothesis and say that there is a statistically significant difference in average waiting time between effective and ineffective operators. "
   ]
  },
  {
   "cell_type": "markdown",
   "metadata": {},
   "source": [
    "### Conclusions<a class=\"anchor\" id=\"chapter6\"></a>"
   ]
  },
  {
   "cell_type": "markdown",
   "metadata": {},
   "source": [
    "Clients dataset:\n",
    "\n",
    "* We have 732 unique users\n",
    "* Three tariff plans: A, B and C. The most popular tariff plan is C (395 users), the least popular tariff - A (76 users)\n",
    "* Registration dates between 01-08-2019 and 31-10-2019\n",
    "\n",
    "df dataset:\n",
    "\n",
    "* Only 290 of all registered users (732 users) started using their tariff plan\n",
    "* We have 1092 operators\n",
    "* Users can have from 1 to 50 operators\n",
    "* We data on calls from 02-08-2019 till 28-11-2019. The number of calls increasing during this period. We also see peaks in some days and than downs. Probably, downs were caused by low activity at weekends\n",
    "* About 70% of calls are outgoing\n",
    "* About 13% of calls made between the operators\n",
    "* About 34% calls were missed\n",
    "\n",
    "Identifying ineffective operators: \n",
    "\n",
    "We used 90th percentile to define a threshold for a share of missed calls. So, our first criteria for ineffectiveness is: \n",
    "\n",
    "#### Operator considered ineffective if he has a share of missed incoming calls more than 5%. \n",
    "\n",
    "We used 90th percentile to determine the threshold for a long waiting time. So, our second criteria is: \n",
    "\n",
    "#### Waiting time more than 30 seconds consider as a long waiting time.\n",
    "\n",
    "We used 25th percentile as a threshold for small share of outgoing calls. So, the third criteria is: \n",
    "\n",
    "#### Operators that have a share of outgoing calls less than 65% are considered ineffective.\n",
    "\n",
    "\n",
    "Operators that have all three criterias simultaneously:\n",
    "\n",
    "* We have only 1 operator that is \"bad\" at all three criterias simultaneously.\n",
    "\n",
    "Operators that have two criterias simultaneously:\n",
    "\n",
    "* 29 operators have long wait and small share of outgoing calls\n",
    "* 7 operators large share of missed calls and small share of outgoing calls\n",
    "* 2 operators large share of missed calls and long wait\n",
    "\n",
    "Operators that have only one criteria:\n",
    "\n",
    "* 180 operators have small share of outgoing calls\n",
    "* 65 have long waiting time\n",
    "* 11 operator has large share of missed calls\n",
    "\n",
    "So, we identified 295 ineffective operators. About 61% of them have small share of outgoing calls.  About 22% of all ineffective operators have long waiting time. It's really annoying to wait until your operator answers your call and may cause a loss of clients. About 9% have both criterias above: long wait and small share of outgoing calls. 3% have large share of missed calls.  \n",
    "\n",
    "Testing hypothesis:\n",
    "\n",
    "We checked if there is statistically significant difference in average waiting time between effective and ineffective operators.\n",
    "\n",
    "We got p_value is much smaller than alpha. So, we rejected Null hypothesis and said that there was a statistically significant difference in average waiting time between effective and ineffective operators.\n",
    "\n",
    "#### We suggest stopping using all inefficient operators.\n"
   ]
  }
 ],
 "metadata": {
  "kernelspec": {
   "display_name": "Python 3",
   "language": "python",
   "name": "python3"
  },
  "language_info": {
   "codemirror_mode": {
    "name": "ipython",
    "version": 3
   },
   "file_extension": ".py",
   "mimetype": "text/x-python",
   "name": "python",
   "nbconvert_exporter": "python",
   "pygments_lexer": "ipython3",
   "version": "3.7.8"
  },
  "toc": {
   "base_numbering": 1,
   "nav_menu": {},
   "number_sections": false,
   "sideBar": false,
   "skip_h1_title": false,
   "title_cell": "Table of Contents",
   "title_sidebar": "Contents",
   "toc_cell": false,
   "toc_position": {},
   "toc_section_display": false,
   "toc_window_display": false
  }
 },
 "nbformat": 4,
 "nbformat_minor": 2
}
